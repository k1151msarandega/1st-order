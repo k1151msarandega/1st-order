{
  "nbformat": 4,
  "nbformat_minor": 0,
  "metadata": {
    "colab": {
      "provenance": [],
      "authorship_tag": "ABX9TyMTnCk8+7HwYLTOPnwV3Fz2",
      "include_colab_link": true
    },
    "kernelspec": {
      "name": "python3",
      "display_name": "Python 3"
    },
    "language_info": {
      "name": "python"
    }
  },
  "cells": [
    {
      "cell_type": "markdown",
      "metadata": {
        "id": "view-in-github",
        "colab_type": "text"
      },
      "source": [
        "<a href=\"https://colab.research.google.com/github/k1151msarandega/1st-order/blob/main/1st_order_rate_encoding.ipynb\" target=\"_parent\"><img src=\"https://colab.research.google.com/assets/colab-badge.svg\" alt=\"Open In Colab\"/></a>"
      ]
    },
    {
      "cell_type": "markdown",
      "source": [
        "**Architecture:** *1st-order model*\n",
        "\n",
        "\n",
        "**Encoding Scheme:** *Rate encoding*"
      ],
      "metadata": {
        "id": "qQYWE_QwQ4o0"
      }
    },
    {
      "cell_type": "code",
      "execution_count": null,
      "metadata": {
        "id": "8X7mAPFhql_T"
      },
      "outputs": [],
      "source": [
        "pip install snntorch\n",
        "\n",
        "import torch\n",
        "from torchvision import datasets, transforms\n",
        "from torch.utils.data import DataLoader\n",
        "import snntorch as snn\n",
        "import time"
      ]
    },
    {
      "cell_type": "markdown",
      "source": [
        "1. Define the SNN model"
      ],
      "metadata": {
        "id": "U7VeLKb3smU0"
      }
    },
    {
      "cell_type": "code",
      "source": [
        "class SNN(torch.nn.Module):\n",
        "    def __init__(self):\n",
        "        super(SNN, self).__init__()\n",
        "        self.fc = torch.nn.Linear(784, 10)\n",
        "\n",
        "    def forward(self, x):\n",
        "        x = torch.sigmoid(self.fc(x))\n",
        "        return x\n"
      ],
      "metadata": {
        "id": "e_r_kgd8srwV"
      },
      "execution_count": null,
      "outputs": []
    },
    {
      "cell_type": "markdown",
      "source": [
        "2. Define the rate encoding function"
      ],
      "metadata": {
        "id": "sG9sKIbVsucA"
      }
    },
    {
      "cell_type": "code",
      "source": [
        "def rate_encoding(x):\n",
        "    return x * 255"
      ],
      "metadata": {
        "id": "ZD5LvxTXsxyi"
      },
      "execution_count": null,
      "outputs": []
    },
    {
      "cell_type": "markdown",
      "source": [
        "3. Load the MNIST dataset"
      ],
      "metadata": {
        "id": "X7wDOT_Ds4UR"
      }
    },
    {
      "cell_type": "code",
      "source": [
        "transform = transforms.Compose([\n",
        "    transforms.ToTensor(),\n",
        "    transforms.Lambda(rate_encoding)\n",
        "])\n",
        "\n",
        "train_dataset = datasets.MNIST('./data', train=True, download=True, transform=transform)\n",
        "test_dataset = datasets.MNIST('./data', train=False, download=True, transform=transform)\n"
      ],
      "metadata": {
        "id": "i9IZF-_Cs7lH"
      },
      "execution_count": null,
      "outputs": []
    },
    {
      "cell_type": "markdown",
      "source": [
        "4. Create data loaders"
      ],
      "metadata": {
        "id": "UXXnhrgttAvL"
      }
    },
    {
      "cell_type": "code",
      "source": [
        "batch_size = 64\n",
        "train_loader = DataLoader(train_dataset, batch_size=batch_size, shuffle=True)\n",
        "test_loader = DataLoader(test_dataset, batch_size=batch_size, shuffle=False)\n"
      ],
      "metadata": {
        "id": "i6oNDc3QtGCr"
      },
      "execution_count": null,
      "outputs": []
    },
    {
      "cell_type": "markdown",
      "source": [
        "5. Define the SNN model and optimiser"
      ],
      "metadata": {
        "id": "23QeEddmtJwY"
      }
    },
    {
      "cell_type": "code",
      "source": [
        "snn_model = SNN()\n",
        "snn_optimizer = torch.optim.Adam(snn_model.parameters(), lr=0.001)"
      ],
      "metadata": {
        "id": "M_hONRTytOUd"
      },
      "execution_count": null,
      "outputs": []
    },
    {
      "cell_type": "markdown",
      "source": [
        "6. Define the SNN simulator"
      ],
      "metadata": {
        "id": "yOj7duxTtR2H"
      }
    },
    {
      "cell_type": "code",
      "source": [
        "sim = snn.Simulator()"
      ],
      "metadata": {
        "id": "oSvSkwjSteY1"
      },
      "execution_count": null,
      "outputs": []
    },
    {
      "cell_type": "markdown",
      "source": [
        "7. Train the SNN model"
      ],
      "metadata": {
        "id": "ItSSkNGQthNv"
      }
    },
    {
      "cell_type": "code",
      "source": [
        "num_epochs = 5\n",
        "\n",
        "start_time = time.time()\n",
        "\n",
        "for epoch in range(num_epochs):\n",
        "    snn_model.train()\n",
        "    for batch_idx, (data, targets) in enumerate(train_loader):\n",
        "        # Reset the SNN simulator\n",
        "        sim.reset()\n",
        "\n",
        "        # Encode input spikes\n",
        "        inputs = sim.input(data)\n",
        "\n",
        "        # Forward pass through the SNN model\n",
        "        outputs = snn_model(inputs)\n",
        "\n",
        "        # Compute loss and backpropagation\n",
        "        loss = sim.loss(outputs, targets)\n",
        "        snn_optimizer.zero_grad()\n",
        "        loss.backward()\n",
        "        snn_optimizer.step()\n",
        "\n",
        "        # Print progress\n",
        "        if batch_idx % 100 == 0:\n",
        "            print(f'Epoch {epoch+1}/{num_epochs}, Step {batch_idx}/{len(train_loader)}, Loss: {loss.item()}')\n",
        "\n",
        "training_time = time.time() - start_time\n"
      ],
      "metadata": {
        "id": "QXCN3_5etkXx"
      },
      "execution_count": null,
      "outputs": []
    },
    {
      "cell_type": "markdown",
      "source": [
        "8. Test the SNN model"
      ],
      "metadata": {
        "id": "RJcnoBWvtqAm"
      }
    },
    {
      "cell_type": "code",
      "source": [
        "snn_model.eval()\n",
        "correct = 0\n",
        "total = 0\n",
        "\n",
        "start_time = time.time()\n",
        "\n",
        "with torch.no_grad():\n",
        "    for data, targets in test_loader:\n",
        "        # Reset the SNN simulator\n",
        "        sim.reset()\n",
        "\n",
        "        # Encode input spikes\n",
        "        inputs = sim.input(data)\n",
        "\n",
        "        # Forward pass through the SNN model\n",
        "        outputs = snn_model(inputs)\n",
        "\n",
        "        # Get predicted labels\n",
        "        _, predicted = torch.max(outputs.data, 1)\n",
        "\n",
        "        # Compute accuracy\n",
        "        total += targets.size(0)\n",
        "        correct += (predicted == targets).sum().item()\n"
      ],
      "metadata": {
        "id": "1M5XLcgLttkM"
      },
      "execution_count": null,
      "outputs": []
    },
    {
      "cell_type": "markdown",
      "source": [
        "9. Evaluation metrics"
      ],
      "metadata": {
        "id": "tgS4fRyPtzr3"
      }
    },
    {
      "cell_type": "code",
      "source": [
        "testing_time = time.time() - start_time\n",
        "\n",
        "accuracy = 100 * correct / total\n",
        "print(f'Accuracy: {accuracy}%')\n",
        "print(f'Training Time: {training_time} seconds')\n",
        "print(f'Testing Time: {testing_time} seconds')"
      ],
      "metadata": {
        "id": "xM0pWmLSt29o"
      },
      "execution_count": null,
      "outputs": []
    }
  ]
}