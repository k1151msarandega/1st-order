{
  "nbformat": 4,
  "nbformat_minor": 0,
  "metadata": {
    "colab": {
      "provenance": [],
      "authorship_tag": "ABX9TyPkE/oWmV8RcNraKHQTABWb",
      "include_colab_link": true
    },
    "kernelspec": {
      "name": "python3",
      "display_name": "Python 3"
    },
    "language_info": {
      "name": "python"
    }
  },
  "cells": [
    {
      "cell_type": "markdown",
      "metadata": {
        "id": "view-in-github",
        "colab_type": "text"
      },
      "source": [
        "<a href=\"https://colab.research.google.com/github/k1151msarandega/1st-order/blob/main/1st_order_direct_encoding.ipynb\" target=\"_parent\"><img src=\"https://colab.research.google.com/assets/colab-badge.svg\" alt=\"Open In Colab\"/></a>"
      ]
    },
    {
      "cell_type": "markdown",
      "source": [
        "**Architecture:** *1st-order model*\n",
        "\n",
        "**Encoding Scheme:** *Direct encoding*"
      ],
      "metadata": {
        "id": "qQYWE_QwQ4o0"
      }
    },
    {
      "cell_type": "code",
      "execution_count": null,
      "metadata": {
        "id": "IQ0tW82LuMX8"
      },
      "outputs": [],
      "source": [
        "pip install snntorch\n",
        "\n",
        "import torch\n",
        "from torchvision import datasets, transforms\n",
        "import snntorch as snn"
      ]
    },
    {
      "cell_type": "markdown",
      "source": [
        "1. Define the network architecture"
      ],
      "metadata": {
        "id": "q73usi4NwaGl"
      }
    },
    {
      "cell_type": "code",
      "source": [
        "class Net(snn.SNNModule):\n",
        "    def __init__(self):\n",
        "        super(Net, self).__init__()\n",
        "\n",
        "        self.fc1 = snn.Linear(28 * 28, 256)\n",
        "        self.fc2 = snn.Linear(256, 64)\n",
        "        self.fc3 = snn.Linear(64, 10)\n",
        "\n",
        "    def forward(self, x):\n",
        "        x = self.fc1(x)\n",
        "        x = self.fc2(x)\n",
        "        x = self.fc3(x)\n",
        "        return x"
      ],
      "metadata": {
        "id": "Ubve1Cr_wdSZ"
      },
      "execution_count": null,
      "outputs": []
    },
    {
      "cell_type": "markdown",
      "source": [
        "2. Define the training and testing functions"
      ],
      "metadata": {
        "id": "SQA0MsypwgOT"
      }
    },
    {
      "cell_type": "code",
      "source": [
        "def train(model, train_loader, criterion, optimizer, device):\n",
        "    model.train()  # Set the model to training mode\n",
        "    total_loss = 0.0\n",
        "\n",
        "    for inputs, targets in train_loader:\n",
        "        inputs = inputs.to(device)\n",
        "        targets = targets.to(device)\n",
        "\n",
        "        optimizer.zero_grad()  # Clear the gradients\n",
        "\n",
        "        outputs = model(inputs)  # Forward pass\n",
        "        loss = criterion(outputs, targets)  # Compute the loss\n",
        "        total_loss += loss.item() * inputs.size(0)\n",
        "\n",
        "        loss.backward()  # Backward pass\n",
        "        optimizer.step()  # Update weights\n",
        "\n",
        "    return total_loss / len(train_loader.dataset)\n",
        "\n",
        "def test(model, test_loader, device):\n",
        "    model.eval()  # Set the model to evaluation mode\n",
        "    correct = 0\n",
        "\n",
        "    with torch.no_grad():\n",
        "        for inputs, targets in test_loader:\n",
        "            inputs = inputs.to(device)\n",
        "            targets = targets.to(device)\n",
        "\n",
        "            outputs = model(inputs)  # Forward pass\n",
        "            _, predicted = torch.max(outputs.data, 1)  # Get the predicted class\n",
        "            correct += (predicted == targets).sum().item()\n",
        "\n",
        "    accuracy = correct / len(test_loader.dataset)\n",
        "    return accuracy"
      ],
      "metadata": {
        "id": "9QJZCdAuwjw2"
      },
      "execution_count": null,
      "outputs": []
    },
    {
      "cell_type": "markdown",
      "source": [
        "3. Set the random seed for reproducibility"
      ],
      "metadata": {
        "id": "IY3gjiOGwrLd"
      }
    },
    {
      "cell_type": "code",
      "source": [
        "torch.manual_seed(0)"
      ],
      "metadata": {
        "id": "iXSxGdVzwxpD"
      },
      "execution_count": null,
      "outputs": []
    },
    {
      "cell_type": "markdown",
      "source": [
        "4. Define the device"
      ],
      "metadata": {
        "id": "VBVFERExw0wW"
      }
    },
    {
      "cell_type": "code",
      "source": [
        "device = torch.device(\"cuda\" if torch.cuda.is_available() else \"cpu\")\n"
      ],
      "metadata": {
        "id": "dA6FE2r9w71X"
      },
      "execution_count": null,
      "outputs": []
    },
    {
      "cell_type": "markdown",
      "source": [
        "5. Define the transformation to apply to the input data"
      ],
      "metadata": {
        "id": "e0xvfZoGxARL"
      }
    },
    {
      "cell_type": "code",
      "source": [
        "transform = transforms.Compose([\n",
        "    transforms.ToTensor(),\n",
        "    transforms.Normalize((0.1307,), (0.3081,))\n",
        "])"
      ],
      "metadata": {
        "id": "bm4rv3fxxGNt"
      },
      "execution_count": null,
      "outputs": []
    },
    {
      "cell_type": "markdown",
      "source": [
        "6. Load the MNIST dataset"
      ],
      "metadata": {
        "id": "qckd_Kb9xJiY"
      }
    },
    {
      "cell_type": "code",
      "source": [
        "train_dataset = datasets.MNIST(\n",
        "    root='./data', train=True, transform=transform, download=True)\n",
        "test_dataset = datasets.MNIST(\n",
        "    root='./data', train=False, transform=transform, download=True)\n"
      ],
      "metadata": {
        "id": "JK4icYonxNB6"
      },
      "execution_count": null,
      "outputs": []
    },
    {
      "cell_type": "markdown",
      "source": [
        "7. Create data loaders"
      ],
      "metadata": {
        "id": "ZAxV-ozTxQ27"
      }
    },
    {
      "cell_type": "code",
      "source": [
        "train_loader = torch.utils.data.DataLoader(\n",
        "    dataset=train_dataset, batch_size=64, shuffle=True, num_workers=2)\n",
        "test_loader = torch.utils.data.DataLoader(\n",
        "    dataset=test_dataset, batch_size=64, shuffle=False, num_workers=2)"
      ],
      "metadata": {
        "id": "vUrvC_GCxUZm"
      },
      "execution_count": null,
      "outputs": []
    },
    {
      "cell_type": "markdown",
      "source": [
        "8. Initialise the network"
      ],
      "metadata": {
        "id": "uDGZnfFYxYdi"
      }
    },
    {
      "cell_type": "code",
      "source": [
        "model = Net().to(device)"
      ],
      "metadata": {
        "id": "AEdFRMevxhFt"
      },
      "execution_count": null,
      "outputs": []
    },
    {
      "cell_type": "markdown",
      "source": [
        "9. Define the loss function and optimiser"
      ],
      "metadata": {
        "id": "5b4Ktzv-xo_H"
      }
    },
    {
      "cell_type": "code",
      "source": [
        "criterion = torch.nn.CrossEntropyLoss()\n",
        "optimizer = torch.optim.Adam(model.parameters(), lr=0.01)"
      ],
      "metadata": {
        "id": "Mxw5Z6oYxxk3"
      },
      "execution_count": null,
      "outputs": []
    },
    {
      "cell_type": "markdown",
      "source": [
        "10. Train the model"
      ],
      "metadata": {
        "id": "ZZ-XyBjGx3P2"
      }
    },
    {
      "cell_type": "code",
      "source": [
        "start_time = time.time()\n",
        "for epoch in range(10):\n",
        "    loss = train(model, train_loader, criterion, optimizer, device)\n",
        "    print(f\"Epoch [{epoch+1}/10], Loss: {loss:.4f}\")\n",
        "\n",
        "end_time = time.time()\n",
        "training_time = end_time - start_time"
      ],
      "metadata": {
        "id": "8QwG2Rvix78d"
      },
      "execution_count": null,
      "outputs": []
    },
    {
      "cell_type": "markdown",
      "source": [
        "11. Test the model"
      ],
      "metadata": {
        "id": "imd8qZU-yAT_"
      }
    },
    {
      "cell_type": "code",
      "source": [
        "start_time = time.time()\n",
        "accuracy = test(model, test_loader, device)\n",
        "end_time = time.time()\n",
        "testing_time = end_time - start_time"
      ],
      "metadata": {
        "id": "ifbEgVfGyFwJ"
      },
      "execution_count": null,
      "outputs": []
    },
    {
      "cell_type": "markdown",
      "source": [
        "12. Evaluation metrics"
      ],
      "metadata": {
        "id": "pJNhqnZHyJF9"
      }
    },
    {
      "cell_type": "code",
      "source": [
        "print(f\"Accuracy: {accuracy:.4f}\")\n",
        "print(f\"Training Time: {training_time:.2f} seconds\")\n",
        "print(f\"Testing Time: {testing_time:.2f} seconds\")"
      ],
      "metadata": {
        "id": "4INkFisVyOXL"
      },
      "execution_count": null,
      "outputs": []
    }
  ]
}