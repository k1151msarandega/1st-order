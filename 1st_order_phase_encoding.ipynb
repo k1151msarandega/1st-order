{
  "nbformat": 4,
  "nbformat_minor": 0,
  "metadata": {
    "colab": {
      "provenance": [],
      "authorship_tag": "ABX9TyOdM5tQJPwy8xAnQEXRZ8Vz",
      "include_colab_link": true
    },
    "kernelspec": {
      "name": "python3",
      "display_name": "Python 3"
    },
    "language_info": {
      "name": "python"
    }
  },
  "cells": [
    {
      "cell_type": "markdown",
      "metadata": {
        "id": "view-in-github",
        "colab_type": "text"
      },
      "source": [
        "<a href=\"https://colab.research.google.com/github/k1151msarandega/1st-order/blob/main/1st_order_phase_encoding.ipynb\" target=\"_parent\"><img src=\"https://colab.research.google.com/assets/colab-badge.svg\" alt=\"Open In Colab\"/></a>"
      ]
    },
    {
      "cell_type": "markdown",
      "source": [
        "**Architecture:** *1st-order model*\n",
        "\n",
        "**Encoding Scheme:** *Phase encoding*"
      ],
      "metadata": {
        "id": "qQYWE_QwQ4o0"
      }
    },
    {
      "cell_type": "code",
      "execution_count": null,
      "metadata": {
        "id": "PSA0b2rrx77K"
      },
      "outputs": [],
      "source": [
        "import torch\n",
        "import torch.nn as nn\n",
        "import torch.optim as optim\n",
        "from torch.autograd import Variable\n",
        "import torchvision\n",
        "import torchvision.transforms as transforms\n",
        "from snntorch import encoding\n",
        "import time"
      ]
    },
    {
      "cell_type": "markdown",
      "source": [
        "1. Set the device to GPU if available, otherwise CPU"
      ],
      "metadata": {
        "id": "dflES2yQyHJl"
      }
    },
    {
      "cell_type": "code",
      "source": [
        "device = torch.device(\"cuda\" if torch.cuda.is_available() else \"cpu\")"
      ],
      "metadata": {
        "id": "fbBMw03_yKsK"
      },
      "execution_count": null,
      "outputs": []
    },
    {
      "cell_type": "markdown",
      "source": [
        "2. Define the Spiking Neural Network (SNN) model"
      ],
      "metadata": {
        "id": "FQaMThCbyOEj"
      }
    },
    {
      "cell_type": "code",
      "source": [
        "class SNNModel(nn.Module):\n",
        "    def __init__(self):\n",
        "        super(SNNModel, self).__init__()\n",
        "        self.fc1 = nn.Linear(784, 100)\n",
        "        self.fc2 = nn.Linear(100, 10)\n",
        "\n",
        "    def forward(self, x):\n",
        "        x = x.view(-1, 784)\n",
        "        x = encoding.phase(x, duration=32)\n",
        "        x = self.fc1(x)\n",
        "        x = encoding.phase(x, duration=32)\n",
        "        x = self.fc2(x)\n",
        "        return x"
      ],
      "metadata": {
        "id": "8cnZRAAsyS2B"
      },
      "execution_count": null,
      "outputs": []
    },
    {
      "cell_type": "markdown",
      "source": [
        "3. Define the training and testing functions"
      ],
      "metadata": {
        "id": "eBDRNq9uBTuv"
      }
    },
    {
      "cell_type": "code",
      "source": [
        "def train(model, train_loader, criterion, optimizer):\n",
        "    model.train()\n",
        "    for inputs, targets in train_loader:\n",
        "        inputs = inputs.to(device)\n",
        "        targets = targets.to(device)\n",
        "\n",
        "        optimizer.zero_grad()\n",
        "\n",
        "        # Forward pass\n",
        "        outputs = model(inputs)\n",
        "        loss = criterion(outputs, targets)\n",
        "\n",
        "        # Backward pass and optimization\n",
        "        loss.backward()\n",
        "        optimizer.step()\n",
        "\n",
        "def test(model, test_loader):\n",
        "    model.eval()\n",
        "    correct = 0\n",
        "    total = 0\n",
        "    start_time = time.time()\n",
        "    with torch.no_grad():\n",
        "        for inputs, targets in test_loader:\n",
        "            inputs = inputs.to(device)\n",
        "            targets = targets.to(device)\n",
        "\n",
        "            # Forward pass\n",
        "            outputs = model(inputs)\n",
        "            _, predicted = torch.max(outputs.data, 1)\n",
        "\n",
        "            total += targets.size(0)\n",
        "            correct += (predicted == targets).sum().item()\n",
        "\n",
        "    end_time = time.time()\n",
        "    accuracy = 100 * correct / total\n",
        "    test_time = end_time - start_time\n",
        "    return accuracy, test_time"
      ],
      "metadata": {
        "id": "t1AcbI24BXgx"
      },
      "execution_count": null,
      "outputs": []
    },
    {
      "cell_type": "markdown",
      "source": [
        "4. Set the hyperparameters"
      ],
      "metadata": {
        "id": "aCWPxdkaBc4u"
      }
    },
    {
      "cell_type": "code",
      "source": [
        "batch_size = 128\n",
        "learning_rate = 0.001\n",
        "num_epochs = 10"
      ],
      "metadata": {
        "id": "79vx-stgBhsm"
      },
      "execution_count": null,
      "outputs": []
    },
    {
      "cell_type": "markdown",
      "source": [
        "5. Load the MNIST dataset and apply transformations"
      ],
      "metadata": {
        "id": "ayi6qUkJBkik"
      }
    },
    {
      "cell_type": "code",
      "source": [
        "transform = transforms.Compose([transforms.ToTensor(), transforms.Normalize((0.5,), (0.5,))])\n",
        "\n",
        "train_dataset = torchvision.datasets.MNIST(root='./data', train=True, download=True, transform=transform)\n",
        "train_loader = torch.utils.data.DataLoader(train_dataset, batch_size=batch_size, shuffle=True)\n",
        "\n",
        "test_dataset = torchvision.datasets.MNIST(root='./data', train=False, download=True, transform=transform)\n",
        "test_loader = torch.utils.data.DataLoader(test_dataset, batch_size=batch_size, shuffle=False)"
      ],
      "metadata": {
        "id": "NK7obaHXBn-g"
      },
      "execution_count": null,
      "outputs": []
    },
    {
      "cell_type": "markdown",
      "source": [
        "6. Create an instance of the SNN model and move it to the device"
      ],
      "metadata": {
        "id": "p4Gnsuh0BrMN"
      }
    },
    {
      "cell_type": "code",
      "source": [
        "model = SNNModel().to(device)"
      ],
      "metadata": {
        "id": "9gaCoLZ7BweY"
      },
      "execution_count": null,
      "outputs": []
    },
    {
      "cell_type": "markdown",
      "source": [
        "7. Define the loss function and optimiser"
      ],
      "metadata": {
        "id": "ruzGQCMzBz8O"
      }
    },
    {
      "cell_type": "code",
      "source": [
        "criterion = nn.CrossEntropyLoss()\n",
        "optimizer = optim.Adam(model.parameters(), lr=learning_rate)\n"
      ],
      "metadata": {
        "id": "gT1DEi_4B4EQ"
      },
      "execution_count": null,
      "outputs": []
    },
    {
      "cell_type": "markdown",
      "source": [
        "8. Training loop"
      ],
      "metadata": {
        "id": "4kuwbXljB7Py"
      }
    },
    {
      "cell_type": "code",
      "source": [
        "start_time = time.time()\n",
        "for epoch in range(num_epochs):\n",
        "    train(model, train_loader, criterion, optimizer)\n",
        "    accuracy, _ = test(model, test_loader)\n",
        "    print(f\"Epoch [{epoch+1}/{num_epochs}], Accuracy: {accuracy:.2f}%\")\n",
        "\n",
        "end_time = time.time()\n",
        "total_time = end_time - start_time\n",
        "print(f\"Total training time: {total_time:.2f} seconds\")"
      ],
      "metadata": {
        "id": "7ZsCZ9-eB_7Y"
      },
      "execution_count": null,
      "outputs": []
    },
    {
      "cell_type": "markdown",
      "source": [
        "9. Testing phase"
      ],
      "metadata": {
        "id": "-S9goy_2CDWS"
      }
    },
    {
      "cell_type": "code",
      "source": [
        "_, test_time = test(model, test_loader)\n",
        "print(f\"Testing time: {test_time:.2f} seconds\")"
      ],
      "metadata": {
        "id": "EbxWR96VCHgG"
      },
      "execution_count": null,
      "outputs": []
    }
  ]
}