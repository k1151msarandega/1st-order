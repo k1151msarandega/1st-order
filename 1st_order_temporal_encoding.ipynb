{
  "nbformat": 4,
  "nbformat_minor": 0,
  "metadata": {
    "colab": {
      "provenance": [],
      "authorship_tag": "ABX9TyOVP9Wts0NYHUFInArqnrgu",
      "include_colab_link": true
    },
    "kernelspec": {
      "name": "python3",
      "display_name": "Python 3"
    },
    "language_info": {
      "name": "python"
    }
  },
  "cells": [
    {
      "cell_type": "markdown",
      "metadata": {
        "id": "view-in-github",
        "colab_type": "text"
      },
      "source": [
        "<a href=\"https://colab.research.google.com/github/k1151msarandega/1st-order/blob/main/1st_order_temporal_encoding.ipynb\" target=\"_parent\"><img src=\"https://colab.research.google.com/assets/colab-badge.svg\" alt=\"Open In Colab\"/></a>"
      ]
    },
    {
      "cell_type": "markdown",
      "source": [
        "**Architecture:** *1st-order model*\n",
        "\n",
        "**Encoding Scheme:** *Temporal encoding*"
      ],
      "metadata": {
        "id": "qQYWE_QwQ4o0"
      }
    },
    {
      "cell_type": "code",
      "execution_count": null,
      "metadata": {
        "id": "lQf4u0knGvCl"
      },
      "outputs": [],
      "source": [
        "import torch\n",
        "import torch.nn as nn\n",
        "import torch.optim as optim\n",
        "from torch.utils.data import DataLoader\n",
        "from torchvision.datasets import MNIST\n",
        "from torchvision.transforms import ToTensor\n",
        "from snntorch import spikegen\n",
        "from snntorch import surrogate\n",
        "import time"
      ]
    },
    {
      "cell_type": "markdown",
      "source": [
        "1. Define the SNN model"
      ],
      "metadata": {
        "id": "5hxMfBHBH3hw"
      }
    },
    {
      "cell_type": "code",
      "source": [
        "class SNNModel(nn.Module):\n",
        "    def __init__(self):\n",
        "        super(SNNModel, self).__init__()\n",
        "        self.spikegen = spikegen.VoltageSpikegen(tau=10.0)\n",
        "        self.fc = nn.Linear(784, 10)\n",
        "\n",
        "    def forward(self, x):\n",
        "        out_spikes = self.spikegen(x)\n",
        "        out = self.fc(out_spikes)\n",
        "        return out"
      ],
      "metadata": {
        "id": "hjdAhOE5H6Yt"
      },
      "execution_count": null,
      "outputs": []
    },
    {
      "cell_type": "markdown",
      "source": [
        "2. Set device"
      ],
      "metadata": {
        "id": "-l_3TpE8H9DY"
      }
    },
    {
      "cell_type": "code",
      "source": [
        "device = torch.device(\"cuda\" if torch.cuda.is_available() else \"cpu\")"
      ],
      "metadata": {
        "id": "pq3QLKl0H_dv"
      },
      "execution_count": null,
      "outputs": []
    },
    {
      "cell_type": "markdown",
      "source": [
        "3. Define training parameters"
      ],
      "metadata": {
        "id": "fih72m86IVxR"
      }
    },
    {
      "cell_type": "code",
      "source": [
        "batch_size = 64\n",
        "learning_rate = 0.001\n",
        "num_epochs = 10"
      ],
      "metadata": {
        "id": "rUHYgBgWIaEz"
      },
      "execution_count": null,
      "outputs": []
    },
    {
      "cell_type": "markdown",
      "source": [
        "4. Load MNIST dataset"
      ],
      "metadata": {
        "id": "6_b8zC8UIcYu"
      }
    },
    {
      "cell_type": "code",
      "source": [
        "train_dataset = MNIST(root='./data', train=True, transform=ToTensor(), download=True)\n",
        "test_dataset = MNIST(root='./data', train=False, transform=ToTensor())\n",
        "train_loader = DataLoader(dataset=train_dataset, batch_size=batch_size, shuffle=True)\n",
        "test_loader = DataLoader(dataset=test_dataset, batch_size=batch_size, shuffle=False)"
      ],
      "metadata": {
        "id": "W3n90n44If12"
      },
      "execution_count": null,
      "outputs": []
    },
    {
      "cell_type": "markdown",
      "source": [
        "5. Create the SNN model"
      ],
      "metadata": {
        "id": "hmCb9agqIiJW"
      }
    },
    {
      "cell_type": "code",
      "source": [
        "model = SNNModel()\n",
        "model.to(device)"
      ],
      "metadata": {
        "id": "bThqMbCeImeI"
      },
      "execution_count": null,
      "outputs": []
    },
    {
      "cell_type": "markdown",
      "source": [
        "6. Define loss function and optimiser"
      ],
      "metadata": {
        "id": "SD52kCQSIoWW"
      }
    },
    {
      "cell_type": "code",
      "source": [
        "criterion = nn.CrossEntropyLoss()\n",
        "optimizer = optim.Adam(model.parameters(), lr=learning_rate)"
      ],
      "metadata": {
        "id": "Te9s5RBhIs_F"
      },
      "execution_count": null,
      "outputs": []
    },
    {
      "cell_type": "markdown",
      "source": [
        "7. Function to compute time difference"
      ],
      "metadata": {
        "id": "1VsP7u-9IvOc"
      }
    },
    {
      "cell_type": "code",
      "source": [
        "def get_time_diff(start_time):\n",
        "    end_time = time.time()\n",
        "    time_diff = end_time - start_time\n",
        "    return time_diff"
      ],
      "metadata": {
        "id": "9C65xttCIz4V"
      },
      "execution_count": null,
      "outputs": []
    },
    {
      "cell_type": "markdown",
      "source": [
        "8. Training loop"
      ],
      "metadata": {
        "id": "SlYWlWbZI2IG"
      }
    },
    {
      "cell_type": "code",
      "source": [
        "total_steps = len(train_loader)\n",
        "start_time = time.time()\n",
        "for epoch in range(num_epochs):\n",
        "    for i, (images, labels) in enumerate(train_loader):\n",
        "        # Move data to device\n",
        "        images = images.view(-1, 28 * 28).to(device)\n",
        "        labels = labels.to(device)\n",
        "\n",
        "        # Forward pass\n",
        "        outputs = model(images)\n",
        "\n",
        "        # Compute loss\n",
        "        loss = criterion(outputs, labels)\n",
        "\n",
        "        # Backward and optimize\n",
        "        optimizer.zero_grad()\n",
        "        loss.backward()\n",
        "        optimizer.step()\n",
        "\n",
        "        if (i+1) % 100 == 0:\n",
        "            print(f\"Epoch [{epoch+1}/{num_epochs}], Step [{i+1}/{total_steps}], Loss: {loss.item()}\")\n",
        "\n",
        "training_time = get_time_diff(start_time)\n",
        "print(f\"Training Time: {training_time} seconds\")"
      ],
      "metadata": {
        "id": "R4CqPekwI81a"
      },
      "execution_count": null,
      "outputs": []
    },
    {
      "cell_type": "markdown",
      "source": [
        "9. Test the model"
      ],
      "metadata": {
        "id": "S6NRmpUrI95m"
      }
    },
    {
      "cell_type": "code",
      "source": [
        "model.eval()\n",
        "with torch.no_grad():\n",
        "    correct = 0\n",
        "    total = 0\n",
        "    start_time = time.time()\n",
        "    for images, labels in test_loader:\n",
        "        images = images.view(-1, 28 * 28).to(device)\n",
        "        labels = labels.to(device)\n",
        "        outputs = model(images)\n",
        "        _, predicted = torch.max(outputs.data, 1)\n",
        "        total += labels.size(0)\n",
        "        correct += (predicted == labels).sum().item()"
      ],
      "metadata": {
        "id": "_wg9A4gaJBVg"
      },
      "execution_count": null,
      "outputs": []
    },
    {
      "cell_type": "markdown",
      "source": [
        "10. Evaluation metrics"
      ],
      "metadata": {
        "id": "J-IjFldYJR6w"
      }
    },
    {
      "cell_type": "code",
      "source": [
        "training_time = get_time_diff(start_time)\n",
        "print(f\"Training Time: {training_time} seconds\")\n",
        "\n",
        "accuracy = 100 * correct / total\n",
        "    testing_time = get_time_diff(start_time)\n",
        "    print(f\"Test Accuracy: {accuracy}%\")\n",
        "    print(f\"Testing Time: {testing_time} seconds\")"
      ],
      "metadata": {
        "id": "ZTPKClCUJUMZ"
      },
      "execution_count": null,
      "outputs": []
    }
  ]
}