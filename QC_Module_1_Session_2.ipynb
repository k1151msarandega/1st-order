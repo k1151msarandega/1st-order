{
  "nbformat": 4,
  "nbformat_minor": 0,
  "metadata": {
    "colab": {
      "provenance": [],
      "collapsed_sections": [
        "ZQ4lu6ANf4Hh",
        "kqYhikYuf94f",
        "wK8ah1ISmfmY",
        "-wtNDwnPm6OR",
        "GHPEsb_IowPQ",
        "BJVdEmguopMz",
        "UcblKoPEpF6F",
        "5EPdK_A-pX1B",
        "gZnKLzV9X0uu"
      ],
      "include_colab_link": true
    },
    "kernelspec": {
      "name": "python3",
      "display_name": "Python 3"
    },
    "language_info": {
      "name": "python"
    }
  },
  "cells": [
    {
      "cell_type": "markdown",
      "metadata": {
        "id": "view-in-github",
        "colab_type": "text"
      },
      "source": [
        "<a href=\"https://colab.research.google.com/github/k1151msarandega/1st-order/blob/main/QC_Module_1_Session_2.ipynb\" target=\"_parent\"><img src=\"https://colab.research.google.com/assets/colab-badge.svg\" alt=\"Open In Colab\"/></a>"
      ]
    },
    {
      "cell_type": "markdown",
      "source": [
        "<img src=\"https://drive.google.com/uc?id=1eBlhnvWo94RnzPK-86F5MzfFd86Cjb9C\" width=\"65\">\n",
        "\n",
        "\n",
        "Created by: The AVELA Team\n",
        "# **0. Welcome to the <a style=\"text-decoration:none;\" href=\"https://towardsdatascience.com/cheat-sheet-for-google-colab-63853778c093\"><font color='blue'>G</font><font color='red'>o</font><font color='Goldenrod'>o</font><font color='blue'>g</font><font color='green'>l</font><font color='red'>e</font><font color=\"black\"> Colab</font></a> notebook!**\n",
        "Make sure to read <u>every</u> cell in this notebook to get your Quantum Computing [Python](https://docs.google.com/document/d/1gen8uhv7UC_Qo5wT5paX8tesrSffhXlK9WDYunmcWgs/edit?usp=sharing) code working! \\\\\n",
        "To run code, all you have to do is click the *run* button ▶️ (triangle in a circle). \\\\\n",
        "\n",
        "\n",
        "Your job will be to read every block and **replace** the question marks (?) in each coding cell with the **correct** information explained in the comments. Then run the cell! \\\\\n",
        "\n",
        "NOTE: If there are no question marks (?) in a cell, then just click the *run* button!\n",
        "\n",
        "#[Completion form](https://forms.gle/FNK2NeSr2z9rdw3z7)"
      ],
      "metadata": {
        "id": "UTLY0uXwX0sh"
      }
    },
    {
      "cell_type": "markdown",
      "source": [
        "#Quantum Cryptography"
      ],
      "metadata": {
        "id": "XUhgF4L7ans8"
      }
    },
    {
      "cell_type": "markdown",
      "source": [
        "# 1. A Brief Intro to Cryptography"
      ],
      "metadata": {
        "id": "ZQ4lu6ANf4Hh"
      }
    },
    {
      "cell_type": "markdown",
      "source": [
        "### 1.1 Simple Replacement\n",
        "\n",
        "There are infinitely many ways of encrypting and decrypting information, and literally thousands of ways have been well-studied. Here, we will restrict ourselves to a very early and very simple method of encryption, called **\"simple replacement\"**, in order to focus on the **quantum part** of this protocol. The quantum part could be adapted to many other protocols with relatively few changes.\n",
        "\n",
        "A **simple replacement encryption** is one in which one letter or number is replaced with another, such that there is a **1:1 mapping** from the letters/numbers in a message, to the letters/numbers being used in an encrypted sequence. A pop-culture instance of these is the **cryptoquote or cryptogram puzzle**, in which a quote or phrase is encrypted using simple replacement, and the player is tasked with decrypting it. These are easy to solve if they are long enough. Consider the example:\n",
        "\n",
        "```\n",
        "R  WVXRWVW  GSZG  R’W  YVGGVI NZPV  GSRH  KIVGGB\n",
        "OLMT.  GSZG  DZB,  KVLKOV  DROO  SZEV  ZM  VZHRVI\n",
        "GRNV  HLOERMT  RG.  R  SLKV  R  NZWV  RG  HRNKOV  \n",
        "VMLFTS.\n",
        "```\n",
        "\n",
        "People who solve these by hand mostly use tricks involving **familiarity with the structure of the language** of the original message. For example:\n",
        "- In English, the only **one-letter words** like the encrypted `\"R\"` are likely `\"a\"` or `\"I\"`.\n",
        "- The **double letters** encrypted in, for example, `\"KIVGGB\"` can only take certain values.\n",
        "- There are subtler patterns too — e.g., `\"GSZG\"` often maps to `\"that\"`.\n",
        "\n",
        "People using code to solve this have many more options, including:\n",
        "- Brute-force scanning for known words,\n",
        "- Updating substitutions while preserving known plaintext,\n",
        "- Using **letter frequency analysis**, especially when the message is long enough to reflect typical English.\n",
        "\n",
        "---\n",
        "\n",
        "<div class=\"alert alert-block alert-info\">\n",
        "<b>Check-in Question:</b> Try your hand at decrypting this if you like, though it is not necessary for the rest of the module. Click the caret below to see the message.\n",
        "<details>\n",
        "<summary><b>Answer:</b></summary>\n",
        "<p>\n",
        "I decided that I’d better make this pretty long. That way, people will have an easier time solving it. I hope I made it simple enough.\n",
        "</p>\n",
        "</details>\n",
        "</div>\n"
      ],
      "metadata": {
        "id": "goFYVgvzcuwF"
      }
    },
    {
      "cell_type": "markdown",
      "source": [
        "### 🔑 The Encryption Key\n",
        "\n",
        "The example above is associated with a **\"key\"**, a mapping from the **encrypted** to the **decrypted** letters. In this case, the key is:\n",
        "\n",
        "- A (not used, let’s call it Z)  \n",
        "- B → Y  \n",
        "- C (not used, let’s call it X)  \n",
        "- D → W  \n",
        "- E → V  \n",
        "- F → U  \n",
        "- ...\n",
        "\n",
        "And so on.\n",
        "\n",
        "To put it mildly, **this is not a good key**.\n",
        "\n",
        "---\n",
        "\n",
        "### 🏛️ Caesar Shift Ciphers\n",
        "\n",
        "Keys in which the encrypted and decrypted letters are simply **shifted versions of the alphabet** (like A → B, B → C, etc.) are called **Caesar Shift ciphers**.\n",
        "\n",
        "---\n",
        "\n",
        "### 📏 Message Length Matters\n",
        "\n",
        "Note that these are very difficult to decrypt **if the message is short**. In fact, if they are very short, they are **indeterminate**. Consider:\n",
        "\n",
        "```\n",
        "URYYP\n",
        "```\n",
        "\n",
        "There are **many possible decryptions**, using different keys:  \n",
        "**HELLO, PETTY, HAPPY, JIGGY, STOOL**...  \n",
        "Can you think of others?\n",
        "\n",
        "---\n",
        "\n",
        "### 🔐 The Danger of Reusing Keys\n",
        "\n",
        "But if you send **many messages like this**, eventually, the **encryption will be cracked**.\n",
        "\n",
        "So, you **shouldn’t use the same “key” too often**.\n",
        "\n",
        "In fact, best is if you use a certain substitution **only once** —  \n",
        "Not in only one message, but **only for one single character!**\n",
        "\n",
        "---\n",
        "\n",
        "### 📜 One-Time Pad\n",
        "\n",
        "By this, we mean you’ll have an **encryption scheme or key for each character used in the message**, in order.\n",
        "\n",
        "If you want to send a message to a friend using this method, you and your friend would need a **pad of paper** (in ye olden times) on which this **ever-changing key is written**.\n",
        "\n",
        "You will use this **only once**.\n",
        "\n",
        "This is called a **“One-Time Pad”**.\n"
      ],
      "metadata": {
        "id": "hFDOT8Hec5yx"
      }
    },
    {
      "cell_type": "markdown",
      "source": [
        "### 1.2 The One-Time Pad\n",
        "\n",
        "Let’s see how this works with an example. One could do this entirely with letters, but it is common to convert from letters to numbers — say, by assigning **A=0, B=1, C=2, … Z=25**.\n",
        "\n",
        "Suppose we are friends involved in clandestine activities and we have shared a **pad**. Ideally, we would share many pads, but today’s is:\n",
        "\n",
        "```\n",
        "EDGRPOJNCUWQZVMK…\n",
        "```\n",
        "\n",
        "Or, converting to numbers by placement in the alphabet:\n",
        "\n",
        "```\n",
        "4, 3, 6, 17, 15, 14, 9, 13, 2, 20, 22, 16, 25, 21, 12, 10…\n",
        "```\n",
        "\n",
        "Let’s say I want to send the message:\n",
        "\n",
        "```\n",
        "“I love quantum!”\n",
        "```\n",
        "\n",
        "Converted to numbers (ignoring punctuation and spaces, A=0):\n",
        "\n",
        "```\n",
        "8, 11, 14, 21, 4, 16, 20, 0, 13, 19, 20, 12\n",
        "```\n",
        "\n",
        "We don’t want to send this directly — that would be a simple substitution and **not secure**.  \n",
        "Instead, we combine this with our **key** using **addition modulo 26**.\n",
        "\n",
        "We compute:\n",
        "\n",
        "```\n",
        "(8+4) % 26 = 12  \n",
        "(11+3) % 26 = 14  \n",
        "(14+6) % 26 = 20  \n",
        "(21+17) % 26 = 12  \n",
        "(4+15) % 26 = 19  \n",
        "(16+14) % 26 = 4  \n",
        "(20+9) % 26 = 3  \n",
        "(0+13) % 26 = 13  \n",
        "(13+2) % 26 = 15  \n",
        "(19+20) % 26 = 13  \n",
        "(20+22) % 26 = 16  \n",
        "(12+16) % 26 = 2\n",
        "```\n",
        "\n",
        "Final encrypted sequence:\n",
        "\n",
        "```\n",
        "12, 14, 20, 12, 19, 4, 3, 13, 15, 13, 16, 2\n",
        "```\n",
        "\n",
        "Even the repeated letter `\"u\"` in `\"quantum\"` is encoded differently — as `3` and `16`.\n",
        "\n",
        "To **decrypt**, your friend uses the **same pad** and subtracts mod 26:\n",
        "\n",
        "```\n",
        "(12−4) % 26 = 8  \n",
        "(14−3) % 26 = 11  \n",
        "(20−6) % 26 = 14  \n",
        "(12−17) % 26 = 21  \n",
        "...\n",
        "```\n",
        "\n",
        "Recovered message:  \n",
        "```\n",
        "8, 11, 14, 21, 4, 16, 20, 0, 13, 19, 20, 12 → “I love quantum”\n",
        "```\n",
        "\n",
        "This is a **one-time pad**.\n",
        "\n",
        "> 🔒 **Important:**  \n",
        "> If the key is **shorter** than the message, it will start to **repeat**, making the cipher vulnerable to attacks.  \n",
        "> A one-time pad must be **as long or longer** than the message and used **only once**.\n",
        "\n",
        "---\n",
        "\n",
        "<div class=\"alert alert-block alert-info\">\n",
        "<b>Optional In-Class Activity:</b>  \n",
        "<p>In many contexts, students will already be familiar with this encryption, such that this activity can be skipped. But it is a relatively quick, simple refresher.</p>\n",
        "\n",
        "<details>\n",
        "<summary><b>🔧 Steps (Click to expand)</b></summary>\n",
        "\n",
        "1. Get a partner and **share a sequence of 4 letters** to use as a key.  \n",
        "2. Each of you **selects a 4-letter secret word** to send to the other.  \n",
        "3. Convert both the key and your secret word to numbers using **A=1, B=2, … Z=26**.  \n",
        "4. **Encrypt** the word using **modulo 26 addition**.  \n",
        "5. Exchange the **encrypted number sequences** with your partner.  \n",
        "6. **Decrypt** the received message using **modulo 26 subtraction**.  \n",
        "7. ✅ Verify: Did it decode correctly?\n",
        "\n",
        "</details>\n",
        "\n",
        "#### 🔄 Follow-Up\n",
        "Swap encrypted words with a different group who **do not** have your one-time pad.  \n",
        "Can they decrypt it? **Explain why or why not.**\n",
        "</div>\n"
      ],
      "metadata": {
        "id": "Ck1NxiLNdfNE"
      }
    },
    {
      "cell_type": "markdown",
      "source": [
        "---\n",
        "\n",
        "## 🔐 Why the One-Time Pad Is Unbreakable (If Done Right)\n",
        "\n",
        "Hopefully the activity above made it clear that a **one-time pad** is an **unbreakable form of encryption**, given a few key assumptions:\n",
        "\n",
        "- ✅ The key is the **same length as the message** (or longer)  \n",
        "- ✅ The key is **truly random**  \n",
        "- ✅ The key is **used only once** and then discarded  \n",
        "\n",
        "---\n",
        "\n",
        "So this is great. We now have **unbreakable encryption**...  \n",
        "🛑 **Unless someone gets our key.**\n",
        "\n",
        "If an eavesdropper obtains the key:\n",
        "- Everything encrypted with it can be **immediately decrypted**\n",
        "- There is **no protection** once the key is exposed\n",
        "\n",
        "This sharp contrast between:\n",
        "- **Unbreakable secrecy** with a secure key  \n",
        "- **Total exposure** with a compromised key  \n",
        "\n",
        "...makes the **secure sharing of the key** extremely important.\n",
        "\n",
        "---\n",
        "\n",
        "🎯 **The goal of Quantum Key Distribution (QKD)** is to:\n",
        "> Leverage the **constraints that nature imposes on quantum information**  \n",
        "> ...in order to **securely share a one-time pad** between two trusted parties.\n",
        "\n",
        "---\n"
      ],
      "metadata": {
        "id": "sVlpBXxmeLqw"
      }
    },
    {
      "cell_type": "markdown",
      "source": [
        "# 2. Using Quantum States as a Key"
      ],
      "metadata": {
        "id": "kqYhikYuf94f"
      }
    },
    {
      "cell_type": "markdown",
      "source": [
        "Quantum systems like qubits (used in IBM’s quantum computers) have two eigenstates and can be used to securely generate and share cryptographic keys.\n",
        "\n",
        "We can encode letters like A, B, C into binary (0s and 1s) and use **addition modulo 2** for encryption.\n",
        "\n",
        "---\n",
        "\n",
        "<div class=\"alert alert-block alert-info\">\n",
        "<b>Check-in Question:</b>  \n",
        "If we really only care about English letters, how many bits do we need?\n",
        "<details>\n",
        "<summary><b>Answer</b></summary>\n",
        "\n",
        "$$\n",
        "2^4 = 16 \\\\\n",
        "2^5 = 32 \\Rightarrow \\text{We need } \\boxed{5 \\text{ bits}}\n",
        "$$\n",
        "\n",
        "</details>\n",
        "</div>\n",
        "\n",
        "---\n",
        "\n",
        "### Secure Key Sharing\n",
        "\n",
        "Alice and Bob want to share a quantum key without the risk of interception. Two potential channels:\n",
        "\n",
        "1. **Fiber-optic cables** (quantum transmission using photons)\n",
        "2. **Quantum teleportation** (using shared entangled qubits)\n",
        "\n",
        "In this module, we use **teleportation** to simulate secure sharing.\n",
        "\n",
        "We now explore the **BB84 Quantum Key Distribution (QKD)** protocol introduced by [Bennett & Brassard (1984)](https://www.sciencedirect.com/science/article/pii/S0304397514004241?via%3Dihub).\n",
        "\n",
        "---\n",
        "\n",
        "### 2.1 QKD Step 1: Alice’s Random Bits and Bases\n",
        "\n",
        "Alice generates random bits and prepares quantum states using either the **Z basis** or **X basis**.\n",
        "\n",
        "| Basis   | bit = 0         | bit = 1        |\n",
        "|---------|----------------|----------------|\n",
        "| Z       | $\\vert 0\\rangle$      | $\\vert 1\\rangle$   |\n",
        "| X       | $\\vert +\\rangle$  | $\\vert -\\rangle$   |\n",
        "\n",
        "For example, let us suppose Alice randomly generated a 0, and randomly selected the X basis. Then she would prepare a quantum state $|\\psi\\rangle = |+\\rangle_x = \\frac{1}{\\sqrt{2}}(|0\\rangle+|1\\rangle)$.\n",
        "\n",
        "Sample data:\n",
        "\n",
        "| Alice's Bits        | 0 | 1 | 0 | 0 | 1 | 1 | 0 | 1 | 0 | ... |\n",
        "|---------------------|---|---|---|---|---|---|---|---|---|-----|\n",
        "| Alice's Bases       | X | X | Z | Z | Z | X | Z | Z | X | ... |\n",
        "| Alice's States      | \\( |+⟩ \\) | \\( |-⟩ \\) | \\( |0⟩ \\) | \\( |0⟩ \\) | \\( |1⟩ \\) | \\( |-⟩ \\) | \\( |0⟩ \\) | \\( |1⟩ \\) | \\( |+⟩ \\) | ... |\n",
        "\n",
        "---\n",
        "\n",
        "### 2.2 QKD Step 2: Bob’s Random Measurement Bases\n",
        "\n",
        "Bob randomly picks a basis for each qubit and performs a measurement.\n",
        "\n",
        "- If Alice and Bob's bases match → **perfect correlation**\n",
        "- If not → **outcome is random**\n",
        "\n",
        "| Alice's Bits        | 0 | 1 | 0 | 0 | 1 | 1 | 0 | 1 | 0 | ... |\n",
        "|---------------------|---|---|---|---|---|---|---|---|---|-----|\n",
        "| Alice's Bases       | X | X | Z | Z | Z | X | Z | Z | X | ... |\n",
        "| Alice's States      | \\( |+⟩ \\) | \\( |-⟩ \\) | \\( |0⟩ \\) | \\( |0⟩ \\) | \\( |1⟩ \\) | \\( |-⟩ \\) | \\( |0⟩ \\) | \\( |1⟩ \\) | \\( |+⟩ \\) | ... |\n",
        "| Bob's Bases         | X | Z | X | Z | X | X | Z | X | X | ... |\n",
        "| Bob's Expectation   | \\( |+⟩ \\) | ? | ? | \\( |0⟩ \\) | ? | \\( |-⟩ \\) | \\( |0⟩ \\) | ? | \\( |+⟩ \\) | ... |\n",
        "| Bob's Measured      | \\( |+⟩ \\) | \\( |0⟩ \\) | \\( |-⟩ \\) | \\( |0⟩ \\) | \\( |+⟩ \\) | \\( |-⟩ \\) | \\( |0⟩ \\) | \\( |-⟩ \\) | \\( |+⟩ \\) | ... |\n",
        "\n",
        "Bob now compares bases with Alice and discards mismatched entries.\n",
        "\n",
        "These remaining bits become a **shared quantum key**.\n",
        "\n",
        "---\n"
      ],
      "metadata": {
        "id": "GPjribWOezb0"
      }
    },
    {
      "cell_type": "markdown",
      "source": [
        "In the table below, consider the first column. Alice has prepared the state $\\vert +\\rangle$, which is an eigenstate of X. Since Bob has also randomly chosen to measure in the X basis, there is only one possible outcome for Bob's measured state: $\\vert +\\rangle$.\n",
        "\n",
        "In the second column, however, they have chosen different bases. The state Alice sent is\n",
        "\n",
        "$$\n",
        "\\vert -\\rangle = \\frac{1}{\\sqrt{2}}(\\vert 0\\rangle - \\vert 1\\rangle)\n",
        "$$\n",
        "\n",
        "This has a 50% chance of being measured by Bob in the $\\vert 0\\rangle$ state, and a 50% chance of being measured in $\\vert 1\\rangle$. So the row showing what we know, *a priori*, about Bob's measurements cannot be filled in for column 2.\n",
        "\n",
        "But Bob will make a measurement and obtain an eigenstate of (in that column) Z. In the bottom row, we fill in what these measurements happened to yield.\n"
      ],
      "metadata": {
        "id": "Mv4UliXdfApf"
      }
    },
    {
      "cell_type": "markdown",
      "source": [
        "### 2.3. QKD Step 3: Public Discussion of Bases\n",
        "\n",
        "Alice and Bob can now share with each other what **basis** they chose in each case. For all the columns where they happened to choose the **same basis**, they each know for certain what state the other had. Bob can convert the state and basis to a **0 or 1** according to the convention shared by both parties.\n",
        "\n",
        "We can rewrite the table to show only the instances where **Alice's and Bob's bases matched**:\n",
        "\n",
        "| Alice's bits            | 0                 | 0                 | 1                 | 0                 | 0                 | ... |\n",
        "|-------------------------|-------------------|-------------------|-------------------|-------------------|-------------------|-----|\n",
        "| Alice's bases           | X                 | Z                 | X                 | Z                 | X                 | ... |\n",
        "| Alice's states          | $\\vert +\\rangle$  | $\\vert 0\\rangle$  | $\\vert -\\rangle$  | $\\vert 0\\rangle$  | $\\vert +\\rangle$  | ... |\n",
        "| Bob's bases             | X                 | Z                 | X                 | Z                 | X                 | ... |\n",
        "| Bob's states (a priori) | $\\vert +\\rangle$  | $\\vert 0\\rangle$  | $\\vert -\\rangle$  | $\\vert 0\\rangle$  | $\\vert +\\rangle$  | ... |\n",
        "| Bob's states (measured) | $\\vert +\\rangle$  | $\\vert 0\\rangle$  | $\\vert -\\rangle$  | $\\vert 0\\rangle$  | $\\vert +\\rangle$  | ... |\n",
        "| Bob's bits              | 0                 | 0                 | 1                 | 0                 | 0                 | ... |\n",
        "\n",
        "Alice has successfully transmitted the **bit string** `00100...` to Bob. If the friends agreed ahead of time to use **5-bit strings** as numbers in their one-time pad, these first five bits would give them the number:\n",
        "\n",
        "$$\n",
        "4 = 0 \\times 2^4 + 0 \\times 2^3 + 1 \\times 2^2 + 0 \\times 2^1 + 0 \\times 2^0\n",
        "$$\n",
        "\n",
        "---\n",
        "\n",
        "### QKD Step 4: Verify and Send Secret\n",
        "\n",
        "Before Alice and Bob go any further, they should choose a **subset of their classical bits** to compare.\n",
        "\n",
        "- If they were using **matching bases**, the measured values should **agree**.\n",
        "- A small disagreement may result from **quantum noise or hardware error**.\n",
        "- A large disagreement suggests **interference or eavesdropping**.\n",
        "\n",
        "> For now, we assume this verification check **passes** — more on security checks in the section on **eavesdropping**.\n",
        "\n",
        "They now send an **encrypted message** to each other using classical communication. The numbers from their **one-time pad** are used to **encrypt/decrypt** messages — without ever sending the pad itself across the channel.\n",
        "\n",
        "You might ask:\n",
        "> If Alice and Bob communicate their **basis choices** over classical channels, couldn’t that be intercepted?\n",
        "\n",
        "**Yes!** But:\n",
        "- Knowing the basis alone doesn't reveal the actual bit value.\n",
        "- The **initial random bits** (used to prepare the quantum states) are never transmitted.\n",
        "- So, **intercepting basis choices alone is not enough** to break the encryption.\n",
        "\n",
        "The only real threat lies in **intercepting the quantum states** during transmission — and that’s exactly what the next section on **quantum eavesdropping** will explore.\n"
      ],
      "metadata": {
        "id": "IyE62WI6jexB"
      }
    },
    {
      "cell_type": "markdown",
      "source": [
        "# 3. Resistance of QKD to Eavesdropping"
      ],
      "metadata": {
        "id": "wK8ah1ISmfmY"
      }
    },
    {
      "cell_type": "markdown",
      "source": [
        "\n",
        "\n",
        "Alice and Bob have a friend **Eve**, who is notorious for eavesdropping. Eve wishes to intercept Alice's and Bob's quantum key, so that she may use it to decrypt messages sent between the two. This would necessarily happen between Alice's preparation of the states and Bob's measurement of the states, since the measurement collapses the quantum state. In particular, this means the eavesdropping would have to occur *before* there has been any sharing or comparison of bases.\n",
        "\n",
        "Eve must guess which basis was used in encoding each bit. Again, if she is not able to access Alice's computer, she has nothing on which to base this guess, and it will be random. Let us assume Alice's start is the same as before, and let us further assume that Bob's random choice of measurement basis is the same as before.\n",
        "\n",
        "### Eve intercepts and measures:\n",
        "\n",
        "| Alice's bits            | 0            | 1            | 0            | 0            | 1            | 1            | 0            | 1            | 0            | ... |\n",
        "|-------------------------|--------------|--------------|--------------|--------------|--------------|--------------|--------------|--------------|--------------|-----|\n",
        "| Alice's bases           | X            | X            | Z            | Z            | Z            | X            | Z            | Z            | X            | ... |\n",
        "| Alice's states          | $|+\\rangle$  | $|-\\rangle$  | $|0\\rangle$  | $|0\\rangle$  | $|1\\rangle$  | $|-\\rangle$  | $|0\\rangle$  | $|1\\rangle$  | $|+\\rangle$  | ... |\n",
        "| Eve's guess bases       | Z            | X            | X            | Z            | X            | Z            | Z            | X            | X            | ... |\n",
        "| Eve's states (a priori) | ?            | $|-\\rangle$  | ?            | $|0\\rangle$  | ?            | ?            | $|0\\rangle$  | ?            | $|+\\rangle$  | ... |\n",
        "| Eve's measurement       | $|1\\rangle$  | $|-\\rangle$  | $|+\\rangle$  | $|0\\rangle$  | $|-\\rangle$  | $|0\\rangle$  | $|0\\rangle$  | $|-\\rangle$  | $|+\\rangle$  | ... |\n",
        "| Bob's bases             | X            | Z            | X            | Z            | X            | X            | Z            | X            | X            | ... |\n",
        "\n",
        "---\n",
        "\n",
        "### Eve tries to resend to Bob:\n",
        "\n",
        "| Alice's bits            | 0            | 1            | 0            | 0            | 1            | 1            | 0            | 1            | 0            | ... |\n",
        "|-------------------------|--------------|--------------|--------------|--------------|--------------|--------------|--------------|--------------|--------------|-----|\n",
        "| Alice's bases           | X            | X            | Z            | Z            | Z            | X            | Z            | Z            | X            | ... |\n",
        "| Alice's states          | $|+\\rangle$  | $|-\\rangle$  | $|0\\rangle$  | $|0\\rangle$  | $|1\\rangle$  | $|-\\rangle$  | $|0\\rangle$  | $|1\\rangle$  | $|+\\rangle$  | ... |\n",
        "| Eve's guess bases       | Z            | X            | X            | Z            | X            | Z            | Z            | X            | X            | ... |\n",
        "| Eve's measurement       | $|1\\rangle$  | $|-\\rangle$  | $|+\\rangle$  | $|0\\rangle$  | $|-\\rangle$  | $|0\\rangle$  | $|0\\rangle$  | $|-\\rangle$  | $|+\\rangle$  | ... |\n",
        "| Eve's states (sent on)  | $|1\\rangle$  | $|0\\rangle$  | $|1\\rangle$  | $|0\\rangle$  | $|-\\rangle$  | $|+\\rangle$  | $|0\\rangle$  | $|-\\rangle$  | $|0\\rangle$  | ... |\n",
        "| Bob's bases             | X            | Z            | X            | Z            | X            | X            | Z            | X            | X            | ... |\n",
        "| Bob's a priori states   | ?            | $|0\\rangle$  | ?            | $|0\\rangle$  | $|-\\rangle$  | $|+\\rangle$  | $|0\\rangle$  | $|-\\rangle$  | $|+\\rangle$  | ... |\n",
        "| Bob's measurement       | $|-\\rangle$  | $|0\\rangle$  | $|+\\rangle$  | $|0\\rangle$  | $|-\\rangle$  | $|+\\rangle$  | $|0\\rangle$  | $|-\\rangle$  | $|+\\rangle$  | ... |\n",
        "| Bob's bits              | 1            | 0            | 0            | 0            | 1            | 0            | 0            | 1            | 0            | ... |\n",
        "\n",
        "---\n",
        "\n",
        "At this point, it's natural to ask:\n",
        "\n",
        "> **Why doesn't Eve just make a copy of Alice's qubit and send it on?**\n",
        "\n",
        "Because of the [**no-cloning theorem**](https://en.wikipedia.org/wiki/No-cloning_theorem):  \n",
        "There is **no physical way** to create a perfect copy of an **unknown quantum state**. Measuring collapses the state, and trying to duplicate it **inevitably introduces disturbance**, which Alice and Bob can detect when they later verify a subset of their bits.\n"
      ],
      "metadata": {
        "id": "CI0RYrQkkc4B"
      }
    },
    {
      "cell_type": "markdown",
      "source": [
        "As before, Alice and Bob would call each other and compare bases. They will reduce this table to the cases where the two friends selected the same bases:\n",
        "\n",
        "| Alice's bits             | 0             | 0             | 1             | 0             | 0             | ... |\n",
        "|--------------------------|---------------|---------------|---------------|---------------|---------------|-----|\n",
        "| Alice's bases            | X             | Z             | X             | Z             | X             | ... |\n",
        "| Alice's states           | $|+\\rangle$   | $|0\\rangle$   | $|-\\rangle$   | $|0\\rangle$   | $|+\\rangle$   | ... |\n",
        "| Eve's guess bases        | Z             | Z             | Z             | Z             | X             | ... |\n",
        "| Eve's states (a priori)  | ?             | $|0\\rangle$   | ?             | $|0\\rangle$   | $|+\\rangle$   | ... |\n",
        "| Eve's measurement        | $|1\\rangle$   | $|0\\rangle$   | $|0\\rangle$   | $|0\\rangle$   | $|+\\rangle$   | ... |\n",
        "| Eve's states (sent on)   | $|1\\rangle$   | $|0\\rangle$   | $|+\\rangle$   | $|0\\rangle$   | $|0\\rangle$   | ... |\n",
        "| Bob's bases              | X             | Z             | X             | Z             | X             | ... |\n",
        "| Bob's states (a priori)  | ?             | $|0\\rangle$   | $|+\\rangle$   | $|0\\rangle$   | $|+\\rangle$   | ... |\n",
        "| Bob's measurement        | $|-\\rangle$   | $|0\\rangle$   | $|+\\rangle$   | $|0\\rangle$   | $|+\\rangle$   | ... |\n",
        "| Bob's bits               | 1             | 0             | 0             | 0             | 0             | ... |\n",
        "\n",
        "Alice and Bob have once again communicated a bit string... but the strings don't match. The far left and middle bits are flipped. Looking at the previous table, you can trace this mismatch to the interference from Eve.\n",
        "\n",
        "Critically, note that we can do statistics on the match between our bitstrings now, while setting up the key, long before sharing our encrypted secret. Alice and Bob are free to use as many of their one-time pad bits as they like to check the security of their channel. If a single bit, or a very small percentage of bits did not match, this might be attributable to noise or errors. But a substantial fraction of mismatches indicates eavesdropping.\n",
        "\n",
        "The meaning of \"substantial\" here depends a bit on the noise in the setup being used; what it means for IBM quantum computers is discussed below when we implement this protocol. If excess errors are detected, Alice and Bob do not share the secret, and they can begin hunting the eavesdropper.\n",
        "\n",
        "---\n",
        "\n",
        "### 3.1 Caveats\n",
        "\n",
        "Proving security is extremely difficult. In fact, the protocol loosely described here was proposed in 1984, and wasn't proved secure until 16 years later by [Shor & Preskill, 2000](https://journals.aps.org/prl/abstract/10.1103/PhysRevLett.85.441).\n",
        "\n",
        "There are many subtleties that are beyond the scope of this introduction. But we will briefly list a few to demonstrate that the topic is more complex than illustrated here.\n",
        "\n",
        "- **Secure channels:**  \n",
        "  When Alice sends her qubits through some quantum setup (a channel), and in particular when she hears classical responses back from someone, we have assumed that the someone is actually Bob. If Eve infiltrated this setup in such a way that *all* Alice's communication was actually happening with Eve, and *all* Bob's communication was actually being done with Eve, then Eve has effectively obtained a key and can learn secrets. One must first ensure \"secure channels,\" a process with a different set of protocols that we have not addressed here.\n",
        "\n",
        "- **Assumptions about Eve:**  \n",
        "  To truly prove security, we can't make assumptions about Eve's behavior; she could always confound our expectations. Here, to give concrete examples, we are making assumptions. For example, we might assume that the states Eve sends on to Bob are always exactly those she obtained upon measurement. Or we might assume that she randomly chooses a state experimentally consistent with her measurement. More fundamentally, the language here assumes that Eve actually makes a measurement, as opposed to storing the state on another quantum system and sending on a random qubit to Bob. These assumptions are fine to understand the protocol, but they do mean we are not proving anything in full generality.\n",
        "\n",
        "- **Privacy amplification:**  \n",
        "  Alice and Bob are not required to use the quantum key exactly as transmitted. They can, for example, apply a hash function to the shared key. This would exploit the fact that the eavesdropper has incomplete knowledge of the key to produce a shorter, but secure, shared key.\n"
      ],
      "metadata": {
        "id": "NBYk0BtgjQJ-"
      }
    },
    {
      "cell_type": "markdown",
      "source": [
        "#4. Experiment 1: QKD with No Eavesdropper"
      ],
      "metadata": {
        "id": "-wtNDwnPm6OR"
      }
    },
    {
      "cell_type": "markdown",
      "source": [
        "\n",
        "\n",
        "Let us now implement the above **BB84 Quantum Key Distribution protocol** in the **absence of an eavesdropper**, using a simulator. Our goal is to understand how the protocol works when all is going well.\n",
        "\n",
        "---\n",
        "\n",
        "### A Note on Quantum Simulators\n",
        "\n",
        "Most quantum problems involving more than ~30 qubits cannot be fully simulated by classical computers. Even supercomputers or GPUs cannot model the entanglement space of IBM's 127-qubit devices.\n",
        "\n",
        "But in this case, we're not simulating entangled qubits — unless we use teleportation. So why still bother with **real quantum computers**?\n",
        "\n",
        "The answer is: **the no-cloning theorem**.\n",
        "\n",
        "A classical simulation of a qubit can always be duplicated. If Eve intercepts a simulated quantum message, she can copy it perfectly and send one to Bob, retaining another. In contrast, **true quantum states cannot be cloned** — and this is the core security guarantee of real QKD.\n",
        "\n",
        "---\n",
        "\n",
        "### IBM's Recommended Approach: Qiskit Patterns\n",
        "\n",
        "IBM advocates solving quantum problems through the following four-step process, known as **Qiskit Patterns**:\n",
        "\n",
        "1. **Map** the problem to a quantum circuit\n",
        "2. **Optimize** the circuit for execution on real quantum hardware\n",
        "3. **Execute** the circuit using **Qiskit Runtime Primitives**\n",
        "4. **Post-process** the results to extract useful outcomes\n",
        "\n",
        "---\n",
        "\n",
        "### 4.1 Step 1: Map the Problem to a Quantum Circuit\n",
        "\n",
        "For BB84, the mapping is straightforward. We only need to:\n",
        "\n",
        "- Generate **random bits and bases** for Alice\n",
        "- Prepare corresponding **quantum states**\n",
        "- Have Bob randomly select measurement bases\n",
        "- Apply **measurements** in the corresponding basis\n",
        "\n",
        "So this step boils down to generating a sequence of quantum circuits like this:\n",
        "\n",
        "- **Alice** prepares a state based on her bit and basis:\n",
        "  - If basis = Z and bit = 0 → prepare $|0\\rangle$\n",
        "  - If basis = Z and bit = 1 → prepare $|1\\rangle$\n",
        "  - If basis = X and bit = 0 → prepare $|+\\rangle = \\frac{1}{\\sqrt{2}}(|0\\rangle + |1\\rangle)$\n",
        "  - If basis = X and bit = 1 → prepare $|-\\rangle = \\frac{1}{\\sqrt{2}}(|0\\rangle - |1\\rangle)$\n",
        "\n",
        "- **Bob** measures in his randomly chosen basis (Z or X). If his basis matches Alice's, he will recover the correct bit with high probability.\n",
        "\n",
        "In code, this will look like:\n",
        "- Use `QuantumCircuit(1, 1)` to define one qubit and one classical bit\n",
        "- Use `h` (Hadamard) to rotate into the X basis\n",
        "- Use `measure` to get classical output from Bob's measurement\n",
        "\n",
        "We'll write this circuit-building logic next.\n"
      ],
      "metadata": {
        "id": "BLfOKaqFfYFt"
      }
    },
    {
      "cell_type": "markdown",
      "source": [
        "# CODING ACTIVITY"
      ],
      "metadata": {
        "id": "jxHd_UrenLfA"
      }
    },
    {
      "cell_type": "code",
      "source": [
        "#@title ↓Install qiskit Library by Clicking \"run\" { display-mode: \"form\" }\n",
        "\n",
        "!pip install qiskit qiskit-aer qiskit-ibm-runtime matplotlib numpy"
      ],
      "metadata": {
        "id": "ZoBqYbepYbdK"
      },
      "execution_count": null,
      "outputs": []
    },
    {
      "cell_type": "markdown",
      "source": [
        "##Block 1: Setup & Random Bit Generation"
      ],
      "metadata": {
        "id": "GHPEsb_IowPQ"
      }
    },
    {
      "cell_type": "code",
      "source": [
        "# Step 1: Import dependencies and initialize parameters\n",
        "? # import numpy as np\n",
        "from ? import QuantumCircuit # replace the ? with the library installed above\n",
        "\n",
        "# TODO: Initialize random number generator and parameters\n",
        "?  # Create a variable named bit_num and set it equal to a number of qubits (e.g., 20)\n",
        "\n",
        "# TODO: Create a new random number generator using NumPy (hint: default_rng)\n",
        "? = ?.random.default_rng()\n",
        "\n",
        "# TODO: Create a quantum circuit with bit_num qubits and bit_num classical bits\n",
        "qc = QuantumCircuit(?, ?)  # Use bit_num for both values\n"
      ],
      "metadata": {
        "id": "BydZbym1olsR"
      },
      "execution_count": null,
      "outputs": []
    },
    {
      "cell_type": "markdown",
      "source": [
        "##Block 2: Alice's Bit and Basis Selection"
      ],
      "metadata": {
        "id": "BJVdEmguopMz"
      }
    },
    {
      "cell_type": "code",
      "source": [
        "# Step 2: Generate Alice's random bits and measurement bases\n",
        "# These should be binary (0 or 1), randomly assigned\n",
        "\n",
        "# TODO: Use the RNG from above to generate random bits (0 or 1)\n",
        "# Hint: Use .integers() or threshold a uniform distribution\n",
        "abits = ?  # e.g., rng.integers(0, 2, size=bit_num)\n",
        "\n",
        "# TODO: Generate random bases (0 = Z basis, 1 = X basis) the same way\n",
        "abase = ?  # Match dimensions and values to abits\n",
        "\n",
        "# Print the results to check\n",
        "print(\"Alice's bits are: \", abits)\n",
        "print(\"Alice's bases are:\", abase)\n",
        "\n",
        "# ✅ Bonus challenge: ensure type is np.ndarray and contains only 0 or 1\n"
      ],
      "metadata": {
        "id": "hdHlt421o7pQ"
      },
      "execution_count": null,
      "outputs": []
    },
    {
      "cell_type": "markdown",
      "source": [
        "##Block 3: Alice's Quantum State Preparation"
      ],
      "metadata": {
        "id": "UcblKoPEpF6F"
      }
    },
    {
      "cell_type": "code",
      "source": [
        "# Step 3: Encode Alice's bits into quantum states based on her chosen bases\n",
        "\n",
        "# TODO: Use conditional logic to apply the correct gate to each qubit\n",
        "# Hint: Use if/elif inside the loop, or try dictionary-based dispatch\n",
        "\n",
        "for i in range(?):\n",
        "    bit = ?[i]\n",
        "    basis = ?[i]\n",
        "\n",
        "    if bit == 0 and basis == 1:\n",
        "        qc.?  # Apply Hadamard (H) to create |+⟩ from |0⟩\n",
        "    elif bit == 1 and basis == 0:\n",
        "        ?.?  # Apply X to create |1⟩ from |0⟩\n",
        "    elif bit == 1 and basis == 1:\n",
        "        ?.?  # Apply X first\n",
        "        ?.?  # Then H to get |-⟩\n",
        "\n",
        "# Add barrier after state preparation\n",
        "qc.?\n"
      ],
      "metadata": {
        "id": "gBht1U8JpCEk"
      },
      "execution_count": null,
      "outputs": []
    },
    {
      "cell_type": "markdown",
      "source": [
        "##Block 4: Bob’s Basis Choice and Measurement"
      ],
      "metadata": {
        "id": "5EPdK_A-pX1B"
      }
    },
    {
      "cell_type": "code",
      "source": [
        "# Step 4: Bob randomly chooses his measurement bases\n",
        "# If Bob chooses X basis (1), he must apply an H gate to rotate basis before measurement\n",
        "\n",
        "# TODO: Generate Bob's bases (0 = measure in Z, 1 = measure in X)\n",
        "# Hint: Use the same method as Alice’s bases\n",
        "bbase = ?  # e.g., rng.integers(0, 2, size=bit_num)\n",
        "\n",
        "# TODO: For each qubit, apply measurement logic based on Bob's basis\n",
        "for i in range(?):\n",
        "    if ? == 1:        # If X basis\n",
        "        qc.?          # Apply Hadamard to rotate measurement basis\n",
        "    qc.?              # Measure qubit i into classical bit i\n",
        "\n",
        "# Show Bob's choices\n",
        "print(\"Bob's bases are:\", bbase)\n",
        "qc.draw(\"text\")\n"
      ],
      "metadata": {
        "id": "0FQTA7yHpPwx"
      },
      "execution_count": null,
      "outputs": []
    },
    {
      "cell_type": "markdown",
      "source": [
        "<div class=\"alert alert-block alert-success\">\n",
        "  <b>📌 Tips for Students</b><br><br>\n",
        "\n",
        "  ✅ <b>Basis reminder:</b>  \n",
        "  - <b>Z basis</b> = standard $|0\\rangle$, $|1\\rangle$  \n",
        "  - <b>X basis</b> = $|+\\rangle = \\frac{1}{\\sqrt{2}}(|0\\rangle + |1\\rangle)$,  \n",
        "    &nbsp;&nbsp;&nbsp;&nbsp;&nbsp;&nbsp;&nbsp;&nbsp;&nbsp;&nbsp;&nbsp;&nbsp;&nbsp;$|-\\rangle = \\frac{1}{\\sqrt{2}}(|0\\rangle - |1\\rangle)$  \n",
        "\n",
        "  🛠 <b>Qiskit gates to use:</b>  \n",
        "  - `qc.h(n)` — apply Hadamard gate to qubit `n` (switches to X basis)  \n",
        "  - `qc.x(n)` — apply Pauli-X gate to flip a qubit  \n",
        "  - `qc.measure(n, m)` — measure qubit `n`, store result in classical bit `m`  \n",
        "</div>\n"
      ],
      "metadata": {
        "id": "kSIqapCcpqG8"
      }
    },
    {
      "cell_type": "markdown",
      "source": [
        "## Create A Similar System"
      ],
      "metadata": {
        "id": "gZnKLzV9X0uu"
      }
    },
    {
      "cell_type": "code",
      "source": [
        "import ? as plt\n",
        "\n",
        "def qkd_prepare_and_measure(bit_num: int = 12) -> QuantumCircuit:\n",
        "    \"\"\"\n",
        "    Builds a QKD circuit by randomly generating bits and bases,\n",
        "    encoding states, and applying basis-dependent measurements.\n",
        "    Returns the full quantum circuit.\n",
        "    \"\"\"\n",
        "    # TODO: Create a reproducible RNG\n",
        "    rng = ?.random.?(?)  # Fill in: module, method, params\n",
        "\n",
        "    # TODO: Generate Alice's bits and basis (0 or 1), same length\n",
        "    abits = rng.?(low=0, high=2, size=?)   # Alice's random bits\n",
        "    abase = ?                              # Alice's bases\n",
        "\n",
        "    # TODO: Generate Bob's random basis choices (0=Z, 1=X)\n",
        "    ? = rng.?(?)  # Variable name? Function?\n",
        "\n",
        "    # TODO: Create a quantum circuit with appropriate dimensions\n",
        "    qc = QuantumCircuit(?, ?)  # Use number of qubits + classical bits\n",
        "\n",
        "    # TODO: Encode each qubit based on Alice's bit and basis\n",
        "    for i in range(?):\n",
        "        if abits[i] == 0 and abase[i] == 1:\n",
        "            ?.?(?)                  # Apply Hadamard for |+>\n",
        "        elif ?[i] == 1 and ?[i] == 0:\n",
        "            ?.?(?)                  # Apply X for |1>\n",
        "        ? ? and ?:\n",
        "            ?.?(?)                  # Apply X then...\n",
        "            ?.?(?)                  # ...Hadamard to get |-⟩\n",
        "\n",
        "    ?  # Insert a barrier for readability\n",
        "\n",
        "    # TODO: Apply Bob's measurement logic\n",
        "    for i in ?:\n",
        "        if ?[i] == 1:      # X basis measurement\n",
        "            ?.?(?)        # Rotate to X basis\n",
        "        ?.?(?, ?)         # Always measure qubit to classical bit\n",
        "\n",
        "    # Show chosen bits and bases\n",
        "    print(\"Alice bits: \", ?)\n",
        "    print(\"Alice bases:\", ?)\n",
        "    print(\"Bob bases:  \", ?)\n",
        "    return ?\n",
        "\n",
        "# Call and visualize\n",
        "? = ?(?)\n",
        "qc.draw(\"text\")\n"
      ],
      "metadata": {
        "id": "T8xOAlV9UnW6"
      },
      "execution_count": null,
      "outputs": []
    },
    {
      "cell_type": "markdown",
      "source": [
        "#You've reached the end! Make sure you complete the attendance form"
      ],
      "metadata": {
        "id": "DUPaGpU3YDpY"
      }
    }
  ]
}