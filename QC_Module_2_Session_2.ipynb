{
  "nbformat": 4,
  "nbformat_minor": 0,
  "metadata": {
    "colab": {
      "provenance": [],
      "collapsed_sections": [
        "jznV9MzFFIla",
        "LzdW-4cIv2z-",
        "Uv5PIrYwL4_A",
        "yyYp_u4Rv9DR",
        "aHXqcKG6TdZW",
        "_CaAxFYlV7eL",
        "PJ8uCKTQa6Kh",
        "IGnjcQYwe4vP"
      ],
      "include_colab_link": true
    },
    "kernelspec": {
      "name": "python3",
      "display_name": "Python 3"
    },
    "language_info": {
      "name": "python"
    }
  },
  "cells": [
    {
      "cell_type": "markdown",
      "metadata": {
        "id": "view-in-github",
        "colab_type": "text"
      },
      "source": [
        "<a href=\"https://colab.research.google.com/github/k1151msarandega/1st-order/blob/main/QC_Module_2_Session_2.ipynb\" target=\"_parent\"><img src=\"https://colab.research.google.com/assets/colab-badge.svg\" alt=\"Open In Colab\"/></a>"
      ]
    },
    {
      "cell_type": "markdown",
      "source": [
        "<img src=\"https://drive.google.com/uc?id=1eBlhnvWo94RnzPK-86F5MzfFd86Cjb9C\" width=\"65\">\n",
        "\n",
        "\n",
        "Created by: The AVELA Team\n",
        "# **0. Welcome to the <a style=\"text-decoration:none;\" href=\"https://towardsdatascience.com/cheat-sheet-for-google-colab-63853778c093\"><font color='blue'>G</font><font color='red'>o</font><font color='Goldenrod'>o</font><font color='blue'>g</font><font color='green'>l</font><font color='red'>e</font><font color=\"black\"> Colab</font></a> notebook!**\n",
        "Make sure to read <u>every</u> cell in this notebook to get your Quantum Computing [Python](https://docs.google.com/document/d/1gen8uhv7UC_Qo5wT5paX8tesrSffhXlK9WDYunmcWgs/edit?usp=sharing) code working! For more guidance, you can check out the [python documentation](https://docs.python.org/3/tutorial/index.html) to learn more python and the qiskit documentation](https://docs.quantum.ibm.com/). If you do not know how to code in at all here is a curated [AVELA Python Basics Course](https://tinyurl.com/AVELA-python-basics) to start with. \\\\\n",
        "To run code, all you have to do is click the *run* button ▶️ (triangle in a circle). \\\\\n",
        "\n",
        "\n",
        "Your job will be to read every block and **replace** the question marks (?) in each coding cell with the **correct** information explained in the comments. Then run the cell! \\\\\n",
        "\n",
        "NOTE: If there are no question marks (?) in a cell, then just click the *run* button!\n",
        "\n",
        "###[Session 1 Module 1 for reference](https://colab.research.google.com/drive/1MEU4kwcO8Vjxk5cSX4wQy1J092hqgUlp#scrollTo=ZoBqYbepYbdK)\n",
        "\n",
        "###[Completion form](https://forms.gle/gRkpWVayCo5wScyBA)"
      ],
      "metadata": {
        "id": "_tHLZMP22xtZ"
      }
    },
    {
      "cell_type": "code",
      "source": [
        "#@title ↓Install qiskit Library by Clicking \"run\" { display-mode: \"form\" }\n",
        "\n",
        "!pip install qiskit qiskit-aer qiskit-ibm-runtime matplotlib numpy"
      ],
      "metadata": {
        "id": "d-3rvsRs19Xm"
      },
      "execution_count": null,
      "outputs": []
    },
    {
      "cell_type": "markdown",
      "source": [
        "## All Qiskit Import Modules"
      ],
      "metadata": {
        "id": "jznV9MzFFIla"
      }
    },
    {
      "cell_type": "code",
      "execution_count": null,
      "metadata": {
        "id": "4eisw4ld1uP6"
      },
      "outputs": [],
      "source": [
        "from qiskit import ClassicalRegister, QuantumCircuit, QuantumRegister\n",
        "from qiskit import QuantumCircuit\n",
        "from qiskit.primitives import BackendSamplerV2\n",
        "from qiskit.transpiler.preset_passmanagers import generate_preset_pass_manager\n",
        "from qiskit_aer import AerSimulator\n",
        "from qiskit_aer.noise import NoiseModel\n",
        "from qiskit_ibm_runtime import QiskitRuntimeService\n",
        "from qiskit_ibm_runtime import SamplerV2 as Sampler"
      ]
    },
    {
      "cell_type": "markdown",
      "source": [
        "#🧪 Qiskit Runtime Setup Tutorial"
      ],
      "metadata": {
        "id": "LzdW-4cIv2z-"
      }
    },
    {
      "cell_type": "markdown",
      "source": [
        "This tutorial walks you through setting up the Qiskit Runtime environment, getting your IBM Quantum API key, and running a quantum job.\n",
        "\n",
        "### 🔑 Step 1: Get Your IBM Quantum API Token\n",
        "\n",
        "1. Go to [https://quantum.ibm.com](https://quantum.ibm.com)\n",
        "2. Log in or create an account.\n",
        "3. Click your **profile icon** (top-right) → **Account settings**\n",
        "4. Under **API Token**, click **Copy token**\n",
        "\n",
        "### Step 2: Initialize Qiskit Runtime Service\n",
        "\n",
        "Replace `'Your_API_Key'` with your actual API token obtained in Step 1.\n"
      ],
      "metadata": {
        "id": "p3fcAK9GGwcF"
      }
    },
    {
      "cell_type": "code",
      "source": [
        "from qiskit_ibm_runtime import QiskitRuntimeService\n",
        "\n",
        "# Save your account details (do this only once per runtime session)\n",
        "service = QiskitRuntimeService(\n",
        "    token='Your_API_Key',  # Replace with your actual token\n",
        "    channel='ibm_quantum',\n",
        "    instance='ibm-q/open/main'  # You can update this if using a different hub/group/project\n",
        ")\n",
        "\n",
        "print(service.active_account())  # Check if account is loaded\n",
        "print(service.backends())        # List available backends"
      ],
      "metadata": {
        "id": "Z0VBG4jlJhf_"
      },
      "execution_count": null,
      "outputs": []
    },
    {
      "cell_type": "markdown",
      "source": [
        "### Step 3: Select a Quantum Backend\n",
        "\n",
        "Choose a real device to run on. You can use the least busy backend or specify one like `\"ibm_brisbane\"`"
      ],
      "metadata": {
        "id": "grwFwSyXI6pj"
      }
    },
    {
      "cell_type": "code",
      "source": [
        "# Option 1: Automatically select least busy real device (uncomment if desired)\n",
        "# backend = service.least_busy(operational=True, simulator=False, min_num_qubits=127)\n",
        "\n",
        "# Option 2: Use a specific backend\n",
        "backend = service.backend(\"ibm_brisbane\")\n",
        "\n",
        "print(backend.name)\n"
      ],
      "metadata": {
        "id": "x2yeCjyEGtoK"
      },
      "execution_count": null,
      "outputs": []
    },
    {
      "cell_type": "markdown",
      "source": [
        "### Step 4: Set Up a Simulator with Noise Model (Optional)\n",
        "\n",
        "This uses the characteristics of the real backend in a simulator for faster testing."
      ],
      "metadata": {
        "id": "nWOsv2hzKu11"
      }
    },
    {
      "cell_type": "code",
      "source": [
        "from qiskit_aer import AerSimulator\n",
        "from qiskit_aer.noise import NoiseModel\n",
        "\n",
        "noise_model = NoiseModel.from_backend(backend)\n",
        "backend_sim = AerSimulator(noise_model=noise_model)"
      ],
      "metadata": {
        "id": "bjvl6acnK2Zq"
      },
      "execution_count": null,
      "outputs": []
    },
    {
      "cell_type": "markdown",
      "source": [
        "### Step 5: Initialize the Samplers\n",
        "\n",
        "These are used to run quantum circuits."
      ],
      "metadata": {
        "id": "JJrrxpXeK8Pa"
      }
    },
    {
      "cell_type": "code",
      "source": [
        "from qiskit.primitives import BackendSamplerV2\n",
        "from qiskit_ibm_runtime import SamplerV2 as Sampler\n",
        "\n",
        "# Simulator-based sampler\n",
        "sampler_sim = BackendSamplerV2(backend=backend_sim)\n",
        "\n",
        "# Runtime-based sampler for real devices\n",
        "sampler_runtime = Sampler(backend=backend)\n"
      ],
      "metadata": {
        "id": "ltUbLEBDLFQI"
      },
      "execution_count": null,
      "outputs": []
    },
    {
      "cell_type": "markdown",
      "source": [
        "You're now ready to build circuits and run them on both simulators and real quantum devices using Qiskit Runtime! 🎉"
      ],
      "metadata": {
        "id": "qLWi_wiPLLIP"
      }
    },
    {
      "cell_type": "markdown",
      "source": [
        "# Quantum Key Distribution (QKD) with an Eavesdropper\n",
        "\n",
        "We will implement exactly the same protocol as before. This time, we will insert another set of measurements, by Eve, between Alice and Bob."
      ],
      "metadata": {
        "id": "Uv5PIrYwL4_A"
      }
    },
    {
      "cell_type": "markdown",
      "source": [
        "## 🧭 What You Should Already Have Done\n",
        "\n",
        "Before starting this task, make sure you've completed:\n",
        "\n",
        "- ✅ **Section 1**: Introduction to qubits and measurement  \n",
        "- ✅ **Section 2**: Basis choice and BB84 protocol fundamentals  \n",
        "- ✅ **Section 3**: Circuit implementation for Alice and Bob   \n",
        "\n",
        "---\n",
        "\n",
        "## Goal of This Task\n",
        "\n",
        "We are going to simulate a **QKD scenario with an eavesdropper (Eve)**.  \n",
        "The protocol will be the same as before, **except that Eve measures each qubit in a random basis before it reaches Bob**.\n",
        "\n",
        "This simulates a **man-in-the-middle attack**, and lets us observe how eavesdropping affects the error rate and key generation.\n",
        "\n",
        "---\n",
        "\n",
        "## What You Will Do\n",
        "\n",
        "In this section, you'll:\n",
        "\n",
        "1. **Re-use** the BB84 setup from Section 3 (Alice sends qubits to Bob).  \n",
        "2. Insert an **Eve block** that:\n",
        "   - Measures each qubit in a random basis (X or Z).\n",
        "   - Re-encodes the qubit and passes it to Bob.  \n",
        "3. Analyze how Eve's intervention increases the **quantum bit error rate (QBER)**.\n",
        "\n",
        "---\n",
        "\n",
        "## What’s Happening Technically?\n",
        "\n",
        "| Step | Without Eve                | With Eve                        |\n",
        "|------|----------------------------|---------------------------------|\n",
        "| 1    | Alice prepares qubits      | Alice prepares qubits          |\n",
        "| 2    | Qubits go directly to Bob  | Eve intercepts and measures     |\n",
        "| 3    |                            | Eve resends qubits to Bob       |\n",
        "| 4    | Bob measures qubits        | Bob measures tampered qubits    |\n",
        "\n",
        "Eve’s interference **alters some qubits**, which increases the error rate when Alice and Bob compare their results.\n",
        "\n",
        "---\n",
        "\n",
        "## Implementation Tips\n",
        "\n",
        "- Reuse your `QuantumCircuit` code from earlier tasks.\n",
        "- Use a **third QuantumRegister** for **Eve’s qubits**.\n",
        "- For each qubit:\n",
        "  - Eve randomly selects a measurement basis (Z or X).\n",
        "  - She measures the qubit and **re-prepares** it in the corresponding state.\n",
        "- After Eve, Bob continues as usual: chooses a basis and performs a measurement.\n",
        "\n",
        "---\n",
        "\n",
        "## Analysis\n",
        "\n",
        "After you run the simulation:\n",
        "\n",
        "- Compare Alice and Bob’s final keys.\n",
        "- Calculate the **Quantum Bit Error Rate (QBER)**:\n",
        "\n",
        "QBER = (Number of mismatches) / (Total bits after basis reconciliation)\n",
        "\n",
        "\n",
        "- Discuss how Eve’s presence increased the error rate compared to the original protocol.\n",
        "\n",
        "---\n",
        "\n",
        "## Let’s Get Started\n",
        "\n",
        "Once you're ready, start by building your Qiskit circuit with **three registers**: `alice`, `eve`, and `bob`, and follow the protocol steps described above.\n",
        "\n",
        "You can now continue coding this part in your next code cell.  \n",
        "Happy hacking!\n"
      ],
      "metadata": {
        "id": "cbbn9gBgL-yt"
      }
    },
    {
      "cell_type": "markdown",
      "source": [
        "## Qiskit Setup and Alice’s State Preparation"
      ],
      "metadata": {
        "id": "TzofRT76sR6-"
      }
    },
    {
      "cell_type": "code",
      "source": [
        "# Step 1: Set up quantum registers and generate Alice's random bits and bases\n",
        "import ? as ?\n",
        "\n",
        "bit_num = ?  # Set the number of qubits (e.g. 20)\n",
        "\n",
        "# TODO: Initialize quantum and classical registers\n",
        "qr = QuantumRegister(?, 'q')  # Quantum register\n",
        "cr = ClassicalRegister(?, 'c')  # Classical register\n",
        "qc = QuantumCircuit(qr, cr)\n",
        "\n",
        "# TODO: Create a random number generator and generate Alice's random bits and bases\n",
        "rng = ?.random.?(?)  # Fill in correct module/method\n",
        "abits = np.round(?.random(?, ?))  # Bits (0 or 1)\n",
        "abase = np.round(?.random(?, ?))  # Bases (0 = Z, 1 = X)\n",
        "\n",
        "# Print to verify\n",
        "print(\"Alice's bits: \", abits)\n",
        "print(\"Alice's bases:\", abase)\n"
      ],
      "metadata": {
        "id": "ylSfKR6clyFL"
      },
      "execution_count": null,
      "outputs": []
    },
    {
      "cell_type": "markdown",
      "source": [
        "## Alice’s Quantum State Encoding"
      ],
      "metadata": {
        "id": "UMKjOgj6sp8z"
      }
    },
    {
      "cell_type": "code",
      "source": [
        "# Step 2: Encode Alice's quantum states based on bit and basis\n",
        "\n",
        "# TODO: Apply appropriate gates based on Alice’s bit and basis\n",
        "for n in range(bit_num):\n",
        "    if abits[n] == 0 and abase[n] == 1:\n",
        "        qc.?  # Apply H to encode |+⟩\n",
        "    elif abits[n] == 1 and abase[n] == 0:\n",
        "        qc.?  # Apply X to encode |1⟩\n",
        "    elif abits[n] == 1 and abase[n] == 1:\n",
        "        qc.?  # Apply X\n",
        "        qc.?  # Then H to encode |-⟩\n",
        "\n",
        "qc.?  # Add a barrier after Alice’s preparation\n"
      ],
      "metadata": {
        "id": "sHGXhEU1su_G"
      },
      "execution_count": null,
      "outputs": []
    },
    {
      "cell_type": "markdown",
      "source": [
        "## Eve's Measurement Setup"
      ],
      "metadata": {
        "id": "H-hiMBA9s1oH"
      }
    },
    {
      "cell_type": "code",
      "source": [
        "# Step 3: Eve measures the qubits in a random basis\n",
        "\n",
        "# TODO: Generate Eve’s random measurement bases (0=Z, 1=X)\n",
        "ebase = np.round(rng.?(?, ?))  # Use appropriate RNG\n",
        "\n",
        "# TODO: For each qubit, if Eve uses X basis, apply H before measurement\n",
        "for m in range(bit_num):\n",
        "    if ebase[m] == 1:\n",
        "        qc.?(?)  # Apply H to rotate to X basis\n",
        "    qc.?(?, ?)  # Measure qubit m into classical bit m\n"
      ],
      "metadata": {
        "id": "zzZ-1bSPtHm4"
      },
      "execution_count": null,
      "outputs": []
    },
    {
      "cell_type": "markdown",
      "source": [
        "## Transpilation and Execution (Eve’s Measurement)"
      ],
      "metadata": {
        "id": "oqyad6f0tM8h"
      }
    },
    {
      "cell_type": "code",
      "source": [
        "# Step 4: Transpile and simulate Eve’s measurement\n",
        "\n",
        "# TODO: Provide a backend with target information\n",
        "target = ?.target\n",
        "pm = generate_preset_pass_manager(target=target, optimization_level=?)\n",
        "\n",
        "# TODO: Run the transpiler pass manager\n",
        "qc_isa = ?.run(?)\n"
      ],
      "metadata": {
        "id": "lZLForo2tRGK"
      },
      "execution_count": null,
      "outputs": []
    },
    {
      "cell_type": "markdown",
      "source": [
        "## Extracting Eve’s Measured Bits"
      ],
      "metadata": {
        "id": "uwJq4sc8taA6"
      }
    },
    {
      "cell_type": "code",
      "source": [
        "# Step 5: Run the circuit and extract Eve's measurement outcome\n",
        "\n",
        "job = ?.run([qc_isa], shots=1)\n",
        "counts = job.result()[0].data.c.get_counts()\n",
        "\n",
        "# Extract the single bitstring and reverse the order\n",
        "key = list(?.keys())[0]\n",
        "emeas = list(?)  # Convert string to list of characters\n",
        "\n",
        "# Convert to integer list and reverse bit order\n",
        "emeas_ints = []\n",
        "for n in range(bit_num):\n",
        "    emeas_ints.append(int(?[n]))\n",
        "ebits = emeas_ints[::-1]\n",
        "\n",
        "print(\"Eve's measured bits:\", ebits)\n"
      ],
      "metadata": {
        "id": "7Shl7YxNtl-i"
      },
      "execution_count": null,
      "outputs": []
    },
    {
      "cell_type": "markdown",
      "source": [
        "## Eve Re-Encodes States to Send to Bob"
      ],
      "metadata": {
        "id": "_5I6wApxtgKc"
      }
    },
    {
      "cell_type": "code",
      "source": [
        "# Step 6: Eve prepares new qubits based on her measurement to send to Bob\n",
        "\n",
        "# TODO: Create new registers and quantum circuit\n",
        "qr = QuantumRegister(?, 'q')\n",
        "cr = ClassicalRegister(?, 'c')\n",
        "qc = QuantumCircuit(qr, cr)\n",
        "\n",
        "# TODO: Encode Eve's guessed states using ebits and ebase\n",
        "for n in range(bit_num):\n",
        "    if ebits[n] == 0 and ebase[n] == 1:\n",
        "        qc.?(?)  # Prepare |+⟩\n",
        "    elif ebits[n] == 1 and ebase[n] == 0:\n",
        "        qc.?(?)  # Prepare |1⟩\n",
        "    elif ebits[n] == 1 and ebase[n] == 1:\n",
        "        qc.?(?)\n",
        "        qc.?(?)\n",
        "\n",
        "qc.?  # Add a barrier\n"
      ],
      "metadata": {
        "id": "o4hQfwBYtsYh"
      },
      "execution_count": null,
      "outputs": []
    },
    {
      "cell_type": "markdown",
      "source": [
        "## Bob’s Measurement and Post-Processing"
      ],
      "metadata": {
        "id": "c39yC42StwZf"
      }
    },
    {
      "cell_type": "code",
      "source": [
        "# Step 7: Bob generates random measurement bases and measures qubits\n",
        "\n",
        "bbase = np.round(rng.?(?, ?))\n",
        "\n",
        "for m in range(bit_num):\n",
        "    if bbase[m] == 1:\n",
        "        qc.?  # Apply H to measure in X basis\n",
        "    qc.?(?, ?)  # Measure qubit m into classical bit m\n",
        "\n",
        "# Transpile and simulate\n",
        "qc_isa = pm.run(qc)\n",
        "job = sampler_sim.run([qc_isa], shots=1)\n",
        "counts = job.result()[0].data.c.get_counts()\n",
        "\n",
        "# Extract Bob's measured bits\n",
        "key = list(counts.keys())[0]\n",
        "bmeas = list(key)\n",
        "bmeas_ints = [int(b) for b in bmeas]\n",
        "bbits = bmeas_ints[::-1]\n",
        "print(\"Bob's bits: \", bbits)\n"
      ],
      "metadata": {
        "id": "uxr3gFUGt2I8"
      },
      "execution_count": null,
      "outputs": []
    },
    {
      "cell_type": "markdown",
      "source": [
        "## Comparing Alice and Bob’s Bits"
      ],
      "metadata": {
        "id": "AXKik1omuLrj"
      }
    },
    {
      "cell_type": "code",
      "source": [
        "# Step 8: Compare Alice and Bob’s bits where their bases match\n",
        "\n",
        "agoodbits = []\n",
        "bgoodbits = []\n",
        "match_count = 0\n",
        "\n",
        "for n in range(bit_num):\n",
        "    if ?[n] == ?[n]:  # Matching basis\n",
        "        agoodbits.append(int(abits[n]))\n",
        "        bgoodbits.append(bbits[n])\n",
        "        if int(abits[n]) == bbits[n]:\n",
        "            match_count += 1\n",
        "\n",
        "# Output results\n",
        "print(\"Matched Alice bits: \", agoodbits)\n",
        "print(\"Matched Bob bits:   \", bgoodbits)\n",
        "print(\"Fidelity = \", match_count / len(agoodbits))\n",
        "print(\"Loss = \", 1 - match_count / len(agoodbits))\n"
      ],
      "metadata": {
        "id": "nSM8ZuwnuXiO"
      },
      "execution_count": null,
      "outputs": []
    },
    {
      "cell_type": "markdown",
      "source": [
        "## Compare QKD with and without eavesdropping on a real quantum computer\n",
        "\n",
        "#### Just Click Run On the Code Base Below and Review the Output"
      ],
      "metadata": {
        "id": "_Txb2Inouu04"
      }
    },
    {
      "cell_type": "code",
      "source": [
        "# This calculation was run on ibm_sherbrooke on 11-7-24 and required 3 s to run, with 127 qubits.\n",
        "# Qiskit Patterns Step 1: Mapping your problem to a quantum circuit\n",
        "\n",
        "bit_num = 127\n",
        "qc = QuantumCircuit(bit_num,bit_num)\n",
        "\n",
        "# QKD Step 1: Generate Alice's random bits and bases\n",
        "\n",
        "abits = np.round(rng.random(bit_num))\n",
        "abase = np.round(rng.random(bit_num))\n",
        "\n",
        "# Alice's state preparation\n",
        "\n",
        "for n in range(bit_num):\n",
        "    if abits[n] == 0:\n",
        "        if abase[n] == 1:\n",
        "            qc.h(n)\n",
        "    if abits[n] == 1:\n",
        "        if abase[n] == 0:\n",
        "            qc.x(n)\n",
        "        if abase[n] == 1:\n",
        "            qc.x(n)\n",
        "            qc.h(n)\n",
        "\n",
        "# QKD Step 2: Random bases for Bob\n",
        "\n",
        "bbase = np.round(rng.random(bit_num))\n",
        "\n",
        "for m in range(bit_num):\n",
        "    if bbase[m] == 1:\n",
        "        qc.h(m)\n",
        "    qc.measure(m,m)\n",
        "\n",
        "\n",
        "# Qiskit Patterns Step 2: Transpilation\n",
        "\n",
        "target = backend.target\n",
        "pm = generate_preset_pass_manager(target=target, optimization_level=3)\n",
        "qc_isa = pm.run(qc)\n",
        "\n",
        "# Load the Runtime primitive and session\n",
        "from qiskit_ibm_runtime import SamplerV2 as Sampler\n",
        "sampler = Sampler(mode = backend)\n",
        "\n",
        "# Qiskit Patterns Step 3: Execute\n",
        "\n",
        "job = sampler.run([qc_isa],shots = 1)\n",
        "counts=job.result()[0].data.c.get_counts()\n",
        "countsint=job.result()[0].data.c.get_int_counts()\n",
        "\n",
        "# Qiskit Patterns Step 4: Post-processing\n",
        "# Extract Bob's bits\n",
        "\n",
        "keys=counts.keys()\n",
        "key=list(keys)[0]\n",
        "bmeas=list(key)\n",
        "bmeas_ints=[]\n",
        "for n in range(bit_num):\n",
        "    bmeas_ints.append(int(bmeas[n]))\n",
        "bbits = bmeas_ints[::-1]\n",
        "\n",
        "# Compare Alice's and Bob's measurement bases and collect usable bits\n",
        "\n",
        "agoodbits=[]\n",
        "bgoodbits=[]\n",
        "match_count=0\n",
        "for n in range(bit_num):\n",
        "    if abase[n]==bbase[n]:\n",
        "        agoodbits.append(int(abits[n]))\n",
        "        bgoodbits.append(bbits[n])\n",
        "        if int(abits[n])==bbits[n]:\n",
        "            match_count+=1\n",
        "\n",
        "# Print some results\n",
        "\n",
        "print(\"Alice's bits = \", agoodbits)\n",
        "print(\"Bob's bits = \", bgoodbits)\n",
        "print(\"fidelity = \",match_count/len(agoodbits))\n",
        "print(\"loss = \",1-match_count/len(agoodbits))"
      ],
      "metadata": {
        "id": "7bTf6TuKvFs_"
      },
      "execution_count": null,
      "outputs": []
    },
    {
      "cell_type": "markdown",
      "source": [
        "#### With no eavesdropping, we obtained almost 100% fidelity over this set of 127 trial bits, resulting in 55 matched bases and usable key bits. Now let's repeat this experiment with Eve listening in:"
      ],
      "metadata": {
        "id": "tKrRVxe3vCI0"
      }
    },
    {
      "cell_type": "code",
      "source": [
        "# This calculation was run on ibm_nazca on 11-7-24 and required 2 s to run, with 127 qubits.\n",
        "# Qiskit Patterns Step 1: Mapping your problem to a quantum circuit\n",
        "\n",
        "bit_num = 127\n",
        "qr = QuantumRegister(bit_num, 'q')\n",
        "cr = ClassicalRegister(bit_num, 'c')\n",
        "qc = QuantumCircuit(qr, cr)\n",
        "\n",
        "# QKD Step 1: Generate Alice's random bits and bases\n",
        "\n",
        "abits = np.round(rng.random(bit_num))\n",
        "abase = np.round(rng.random(bit_num))\n",
        "\n",
        "# Alice's state preparation\n",
        "\n",
        "for n in range(bit_num):\n",
        "    if abits[n] == 0:\n",
        "        if abase[n] == 1:\n",
        "            qc.h(n)\n",
        "    if abits[n] == 1:\n",
        "        if abase[n] == 0:\n",
        "            qc.x(n)\n",
        "        if abase[n] == 1:\n",
        "            qc.x(n)\n",
        "            qc.h(n)\n",
        "\n",
        "\n",
        "# Eavesdropping happens here!\n",
        "# Generate Eve's random measurement bases\n",
        "\n",
        "ebase = np.round(rng.random(bit_num))\n",
        "\n",
        "for m in range(bit_num):\n",
        "    if ebase[m] == 1:\n",
        "        qc.h(m)\n",
        "    qc.measure(qr[m],cr[m])\n",
        "\n",
        "# Qiskit Patterns Step 2: Transpile\n",
        "\n",
        "target = backend.target\n",
        "pm = generate_preset_pass_manager(target=target, optimization_level=3)\n",
        "qc_isa = pm.run(qc)\n",
        "\n",
        "from qiskit_ibm_runtime import SamplerV2 as Sampler\n",
        "sampler = Sampler(mode = backend)\n",
        "\n",
        "# Qiskit Patterns Step 3: Execute\n",
        "\n",
        "job = sampler.run([qc_isa],shots = 1)\n",
        "counts=job.result()[0].data.c.get_counts()\n",
        "countsint=job.result()[0].data.c.get_int_counts()\n",
        "\n",
        "# Qiskit Patterns Step 4: Post-processing\n",
        "# Extract Eve's bits\n",
        "\n",
        "keys=counts.keys()\n",
        "key=list(keys)[0]\n",
        "emeas=list(key)\n",
        "emeas_ints=[]\n",
        "for n in range(bit_num):\n",
        "    emeas_ints.append(int(emeas[n]))\n",
        "ebits = emeas_ints[::-1]\n",
        "\n",
        "#print(ebits)\n",
        "\n",
        "# Restart process\n",
        "# Qiskit Patterns Step 1: Mapping your problem to a quantum circuit\n",
        "\n",
        "# QKD Step 1: Eve uses her measurements above to prepare best guess states to send on to Bob\n",
        "\n",
        "qr = QuantumRegister(bit_num, 'q')\n",
        "cr = ClassicalRegister(bit_num, 'c')\n",
        "qc = QuantumCircuit(qr, cr)\n",
        "\n",
        "\n",
        "# Eve's state preparation\n",
        "\n",
        "for n in range(bit_num):\n",
        "    if ebits[n] == 0:\n",
        "        if ebase[n] == 1:\n",
        "            qc.h(n)\n",
        "    if ebits[n] == 1:\n",
        "        if ebase[n] == 0:\n",
        "            qc.x(n)\n",
        "        if ebase[n] == 1:\n",
        "            qc.x(n)\n",
        "            qc.h(n)\n",
        "\n",
        "# QKD Step 2: Random bases for Bob\n",
        "\n",
        "bbase = np.round(rng.random(bit_num))\n",
        "\n",
        "for m in range(bit_num):\n",
        "    if bbase[m] == 1:\n",
        "        qc.h(m)\n",
        "    qc.measure(qr[m],cr[m])\n",
        "\n",
        "# Qiskit Patterns Step 2: Transpile\n",
        "\n",
        "target = backend.target\n",
        "pm = generate_preset_pass_manager(target=target, optimization_level=3)\n",
        "qc_isa = pm.run(qc)\n",
        "\n",
        "# Qiskit Patterns Step 3: Execute\n",
        "\n",
        "job = sampler.run([qc_isa],shots = 1)\n",
        "counts=job.result()[0].data.c.get_counts()\n",
        "countsint=job.result()[0].data.c.get_int_counts()\n",
        "\n",
        "# Qiskit Patterns Step 4: Post-processing\n",
        "# Extract Bob's bits\n",
        "\n",
        "keys=counts.keys()\n",
        "key=list(keys)[0]\n",
        "bmeas=list(key)\n",
        "bmeas_ints=[]\n",
        "for n in range(bit_num):\n",
        "    bmeas_ints.append(int(bmeas[n]))\n",
        "bbits = bmeas_ints[::-1]\n",
        "\n",
        "# Compare Alice's and Bob's bases, when they are the same, keep the bits.\n",
        "\n",
        "agoodbits=[]\n",
        "bgoodbits=[]\n",
        "match_count=0\n",
        "for n in range(bit_num):\n",
        "    if abase[n]==bbase[n]:\n",
        "        agoodbits.append(int(abits[n]))\n",
        "        bgoodbits.append(bbits[n])\n",
        "        if int(abits[n])==bbits[n]:\n",
        "            match_count+=1\n",
        "\n",
        "# Print some results\n",
        "\n",
        "print(\"Alice's bits = \", agoodbits)\n",
        "print(\"Bob's bits = \", bgoodbits)\n",
        "print(\"fidelity = \",match_count/len(agoodbits))\n",
        "print(\"loss = \",1-match_count/len(agoodbits))"
      ],
      "metadata": {
        "id": "l5Uuh724vZ8K"
      },
      "execution_count": null,
      "outputs": []
    },
    {
      "cell_type": "markdown",
      "source": [
        "# Quantum Teleportation (Communication)"
      ],
      "metadata": {
        "id": "yyYp_u4Rv9DR"
      }
    },
    {
      "cell_type": "markdown",
      "source": [
        "## 1. Introduction and Background to Quantum Teleportation\n",
        "\n",
        "Quantum teleportation is a technique in quantum physics that allows the **transfer of quantum information** from one place to another *without moving particles*. Unlike sci-fi teleportation, **no physical matter is transported**. Instead, it uses a fascinating quantum property: **entanglement**.\n",
        "\n",
        "Through a clever combination of:\n",
        "- **Quantum entanglement**\n",
        "- **Measurement**\n",
        "- **Classical communication**\n",
        "\n",
        "…we can transfer the *state* of one qubit to another distant qubit. In this module, we’ll **break down the math** and then **implement quantum teleportation on a real IBM quantum computer**. 🚀\n",
        "\n",
        "📚 For extra background, check out:\n",
        "- [Quantum Information Basics by John Watrous](https://learning.quantum.ibm.com/course/basics-of-quantum-information)\n",
        "- [Teleportation Section](https://learning.quantum.ibm.com/course/basics-of-quantum-information/entanglement-in-action#teleportation)\n",
        "\n",
        "---\n",
        "\n",
        "### 💡 Classical vs Quantum Bits\n",
        "\n",
        "- **Classical bit** → can be `0` or `1`\n",
        "- **Quantum bit (qubit)** → can be in a state:  \n",
        "  $$|\\psi\\rangle = \\alpha_0|0\\rangle + \\alpha_1|1\\rangle$$  \n",
        "  where $\\alpha_0, \\alpha_1 \\in \\mathbb{C}$ and  \n",
        "  $$|\\alpha_0|^2 + |\\alpha_1|^2 = 1$$\n",
        "\n",
        "**Measurement collapses** this state into one of the basis states:\n",
        "\n",
        "- Probability of measuring `0`:  \n",
        "  $$P_0 = |\\alpha_0|^2$$\n",
        "\n",
        "- Probability of measuring `1`:  \n",
        "  $$P_1 = |\\alpha_1|^2$$\n",
        "\n",
        "---\n",
        "\n",
        "### 🔗 What is Entanglement?\n",
        "\n",
        "Qubits can be **entangled**, meaning measuring one affects the other *instantly*, no matter the distance.\n",
        "\n",
        "Let Alice and Bob each have a qubit in the state $|0\\rangle$:\n",
        "\n",
        "$$\n",
        "|00\\rangle = |0\\rangle_A \\otimes |0\\rangle_B\n",
        "$$\n",
        "\n",
        "This is called **little-endian notation**  \n",
        "(Qiskit uses this: qubit 0 appears on the **right**).\n",
        "\n",
        "We can create an **entangled superposition** like:\n",
        "\n",
        "$$\n",
        "\\frac{1}{\\sqrt{2}}(|00\\rangle + |11\\rangle)\n",
        "$$\n",
        "\n",
        "\n",
        "In this state:\n",
        "- If **Bob measures `0`**, Alice **must** get `0`\n",
        "- If **Bob measures `1`**, Alice **must** get `1`\n",
        "\n",
        "Even though **they didn’t start as 0 or 1**, the measurement reveals the same result on both ends.\n",
        "\n",
        "---\n",
        "\n",
        "### 🌍 Entanglement Over Distance\n",
        "\n",
        "Entanglement doesn't vanish with space. If Alice and Bob **move apart** after entangling, their qubits remain connected. Each entangled pair (like above) is called an **e-bit**.\n",
        "\n",
        "These e-bits are **resources** for quantum communication.\n",
        "\n",
        "> **❓ Faster than light?**  \n",
        "> Unfortunately, **no**. Teleportation uses **classical communication** alongside entanglement.  \n",
        "> The \"spooky action at a distance\" doesn't violate relativity—information isn't transferred faster than light. [See this Nature article](https://www.nature.com/articles/nature15759)\n",
        "\n",
        "---\n",
        "\n",
        "### 👥 Alice, Bob, and Qubit Q\n",
        "\n",
        "Imagine:\n",
        "- Alice and Bob start together, entangle a pair of qubits.\n",
        "- They **separate**, taking one entangled qubit each.\n",
        "- Alice receives a **mystery qubit Q** (with unknown state).\n",
        "- Her task: **send the state of Q to Bob**, *without measuring Q directly*.\n",
        "\n",
        "How? Quantum teleportation. 🧙‍♀️✨\n",
        "\n",
        "---\n",
        "\n",
        "### 🔧 What You’ll Need: Quantum Gates\n",
        "\n",
        "To make this possible, we’ll use key **quantum gates** and **measurements**, and we'll:\n",
        "1. Set up the entangled state\n",
        "2. Use Alice's measurements\n",
        "3. Send classical info to Bob\n",
        "4. Have Bob apply corrections to **recreate Q's state on his qubit**\n",
        "\n",
        "> Let’s dive into the math and code implementation next! ⚙️🧠💻\n"
      ],
      "metadata": {
        "id": "vw1HdMmIyKax"
      }
    },
    {
      "cell_type": "markdown",
      "source": [
        "## 2. Quantum Operators (Gates)\n",
        "\n",
        "*Feel free to skip this section if you're already familiar with quantum gates.*  \n",
        "If you'd like a refresher, check out the [Basics of Quantum Information](https://learning.quantum.ibm.com/course/basics-of-quantum-information), especially the first two lessons on the IBM Quantum Learning platform.\n",
        "\n",
        "In this teleportation protocol, we primarily use:\n",
        "\n",
        "- **Hadamard (H) gate**\n",
        "- **CNOT gate**\n",
        "\n",
        "Other gates used (less frequently):\n",
        "\n",
        "- **X gate**\n",
        "- **Z gate**\n",
        "- **SWAP gate**\n",
        "\n",
        "---\n",
        "\n",
        "### Matrix/Vector Representation\n",
        "\n",
        "The states we've introduced so far are represented as vectors:\n",
        "\n",
        "$$\n",
        "|0\\rangle = \\begin{pmatrix}1 \\\\ 0\\end{pmatrix} \\quad , \\quad\n",
        "|1\\rangle = \\begin{pmatrix}0 \\\\ 1\\end{pmatrix}\n",
        "$$\n",
        "\n",
        "So an arbitrary qubit state:\n",
        "\n",
        "$$\n",
        "|\\psi\\rangle = a|0\\rangle + b|1\\rangle \\quad \\Rightarrow \\quad\n",
        "|\\psi\\rangle = \\begin{pmatrix}a \\\\ b\\end{pmatrix}\n",
        "$$\n",
        "\n",
        "---\n",
        "\n",
        "For two-qubit systems:\n",
        "\n",
        "$$\n",
        "|00\\rangle = \\begin{pmatrix}1 \\\\ 0 \\\\ 0 \\\\ 0\\end{pmatrix}, \\quad\n",
        "|01\\rangle = \\begin{pmatrix}0 \\\\ 1 \\\\ 0 \\\\ 0\\end{pmatrix}, \\quad\n",
        "|10\\rangle = \\begin{pmatrix}0 \\\\ 0 \\\\ 1 \\\\ 0\\end{pmatrix}, \\quad\n",
        "|11\\rangle = \\begin{pmatrix}0 \\\\ 0 \\\\ 0 \\\\ 1\\end{pmatrix}\n",
        "$$\n",
        "\n",
        "---\n",
        "\n",
        "### 🎛️ Hadamard Gate (H)\n",
        "\n",
        "Creates a superposition from a classical state.\n",
        "\n",
        "$$\n",
        "H|0\\rangle = \\frac{1}{\\sqrt{2}}\\left(|0\\rangle + |1\\rangle\\right) \\\\\n",
        "H|1\\rangle = \\frac{1}{\\sqrt{2}}\\left(|0\\rangle - |1\\rangle\\right)\n",
        "$$\n",
        "\n",
        "Matrix representation:\n",
        "\n",
        "$$\n",
        "H = \\frac{1}{\\sqrt{2}} \\begin{pmatrix} 1 & 1 \\\\ 1 & -1 \\end{pmatrix}\n",
        "$$\n",
        "\n",
        "---\n",
        "\n",
        "🛠️ *To apply a Hadamard gate in Qiskit*:\n",
        "\n",
        "```python\n",
        "qc.h(0)  # Applies Hadamard to qubit 0\n"
      ],
      "metadata": {
        "id": "ORZsW8gJ0KJP"
      }
    },
    {
      "cell_type": "code",
      "source": [
        "#@title ↓Click \"run\" to see Hadamard Circuit{ display-mode: \"form\" }\n",
        "from qiskit import QuantumCircuit\n",
        "qc=QuantumCircuit(1)\n",
        "qc.h(0)\n",
        "qc.draw(\"mpl\")"
      ],
      "metadata": {
        "id": "5A7w_kKdzauk"
      },
      "execution_count": null,
      "outputs": []
    },
    {
      "cell_type": "markdown",
      "source": [
        "### 🔁 CNOT (Controlled-NOT) Gate\n",
        "\n",
        "The **CNOT** gate is a **two-qubit gate**:\n",
        "\n",
        "- It uses one **control qubit** and one **target qubit**.\n",
        "- If the **control qubit is in state** $|1\\rangle$, the **target qubit flips**.\n",
        "- If the **control qubit is in state** $|0\\rangle$, the **target remains unchanged**.\n",
        "\n",
        "\n",
        "---\n",
        "\n",
        "### Gate Behavior (Little-endian notation)\n",
        "\n",
        "Let qubit **A** be the **control** (rightmost qubit), and qubit **B** be the **target** (leftmost qubit).  \n",
        "We write the two-qubit state as $CNOT(q_{control},q_{target})|BA\\rangle.$\n",
        "\n",
        "Then:\n",
        "\n",
        "$$CNOT(A,B)|00\\rangle = |00\\rangle, \\\\ CNOT(A,B)|01\\rangle = |11\\rangle, \\\\ CNOT(A,B)|10\\rangle = |10\\rangle, \\\\ CNOT(A,B)|11\\rangle = |01\\rangle$$\n",
        "\n",
        "---\n",
        "\n",
        "### 🧮 Matrix Representation\n",
        "\n",
        "The matrix form of the CNOT gate (on two qubits) is:\n",
        "\n",
        "\\[\n",
        "\\text{CNOT} =\n",
        "\\begin{bmatrix}\n",
        "1 & 0 & 0 & 0 \\\\\n",
        "0 & 0 & 0 & 1 \\\\\n",
        "0 & 0 & 1 & 0 \\\\\n",
        "0 & 1 & 0 & 0\n",
        "\\end{bmatrix}\n",
        "\\]\n",
        "\n",
        "---\n",
        "\n",
        "### Qiskit Usage\n",
        "\n",
        "In Qiskit, apply a CNOT gate with:\n",
        "\n",
        "```python\n",
        "qc.cx(control_qubit, target_qubit)\n"
      ],
      "metadata": {
        "id": "gx4bGg2O3BXk"
      }
    },
    {
      "cell_type": "code",
      "source": [
        "#@title ↓Click \"run\" to see CNot Gate { display-mode: \"form\" }\n",
        "qc=QuantumCircuit(2)\n",
        "qc.cx(0,1)\n",
        "qc.draw(\"mpl\")"
      ],
      "metadata": {
        "id": "ayB35XqL1Bs5"
      },
      "execution_count": null,
      "outputs": []
    },
    {
      "cell_type": "markdown",
      "source": [
        "# Theory: Understanding Quantum Teleportation\n"
      ],
      "metadata": {
        "id": "aHXqcKG6TdZW"
      }
    },
    {
      "cell_type": "markdown",
      "source": [
        "In this section, we'll walk through the **math** behind quantum teleportation.  \n",
        "Don’t worry — we'll implement this step-by-step using Qiskit next.\n",
        "\n",
        "---\n",
        "\n",
        "### Step 1: Alice and Bob Entangle Their Qubits\n",
        "\n",
        "Initially, Alice and Bob each have a qubit in the state $|0\\rangle$.\n",
        "\n",
        "Their joint state is:\n",
        "$|0\\rangle_B|0\\rangle_A$ = $|00\\rangle$\n",
        "\n",
        "\n",
        "This is called the **little-endian convention**:  \n",
        "Qubit 0 is on the **right** (used by Qiskit).\n",
        "\n",
        "---\n",
        "\n",
        "### Step 2: Apply Gates to Create Entanglement\n",
        "\n",
        "1. Apply a **Hadamard gate** to Alice’s qubit (A):\n",
        "\n",
        "$H|0\\rangle = \\frac{1}{\\sqrt{2}}(|0\\rangle + |1\\rangle)$\n",
        "\n",
        "So their system becomes:\n",
        "\n",
        "$|0\\rangle_B \\otimes \\frac{1}{\\sqrt{2}}(|0\\rangle_A + |1\\rangle_A)$\n",
        "\n",
        "2. Now apply a **CNOT gate**:  \n",
        "Control = Alice's qubit (A)  \n",
        "Target = Bob's qubit (B)\n",
        "\n",
        "We calculate:\n",
        "\n",
        "$CNOT(A, B)\\left( |0\\rangle_B \\cdot \\frac{1}{\\sqrt{2}}(|0\\rangle_A + |1\\rangle_A) \\right)$\n",
        "\n",
        "Expanding this:\n",
        "\n",
        "$\\frac{1}{\\sqrt{2}} \\left( CNOT|0\\rangle_B|0\\rangle_A + CNOT|0\\rangle_B|1\\rangle_A \\right)$\n",
        "\n",
        "Using CNOT rules:\n",
        "\n",
        "- $CNOT|00\\rangle = |00\\rangle$\n",
        "- $CNOT|01\\rangle = |11\\rangle$\n",
        "\n",
        "So the result is:\n",
        "\n",
        "$\\frac{1}{\\sqrt{2}} \\left( |0\\rangle_B|0\\rangle_A + |1\\rangle_B|1\\rangle_A \\right)$\n",
        "\n",
        "---\n",
        "\n",
        "### ✅ Result: Bell State\n",
        "\n",
        "Alice and Bob now share the entangled state:\n",
        "\n",
        "$\\frac{1}{\\sqrt{2}} (|00\\rangle + |11\\rangle)$\n",
        "\n",
        "- It is **not yet determined** whether both qubits are in 0 or 1.\n",
        "- But we **do know**: they will be the same.\n",
        "\n",
        "This is called a **Bell state** (or an **EPR pair**).  \n",
        "It’s the fundamental resource used in **quantum teleportation**.\n"
      ],
      "metadata": {
        "id": "VQ_uAS_-TmTT"
      }
    },
    {
      "cell_type": "markdown",
      "source": [
        "---\n",
        "\n",
        "### 🚶‍♀️ Alice and Bob Separate\n",
        "\n",
        "Now, Alice and Bob **move their entangled qubits** to distant locations.  \n",
        "This isn’t easy in practice — moving quantum states without introducing noise is tricky.\n",
        "\n",
        "📌 In this module, you'll simulate this transfer. But just keep in mind that in real-world systems, **moving qubits can introduce errors**.\n",
        "\n",
        "---\n",
        "\n",
        "### Introducing Q: The Secret State\n",
        "\n",
        "Next, a **third qubit**, called **Q**, is introduced.  \n",
        "It holds the **secret quantum state** that Alice wants to teleport to Bob.\n",
        "\n",
        "We define Q's state as:\n",
        "\n",
        "$$\n",
        "|\\psi\\rangle_Q = \\alpha_0 |0\\rangle_Q + \\alpha_1 |1\\rangle_Q\n",
        "$$\n",
        "\n",
        "This state is a general superposition, with:\n",
        "\n",
        "- $\\alpha_0$, $\\alpha_1 \\in \\mathbb{C}$\n",
        "- $|\\alpha_0|^2 + |\\alpha_1|^2 = 1$\n",
        "\n",
        "---\n",
        "\n",
        "### Current System State\n",
        "\n",
        "So far, qubit Q is **not entangled** with anything — it just lives next to Alice's qubit (A).\n",
        "\n",
        "The full 3-qubit system (Bob’s qubit B, Alice’s qubit A, and Q) is:\n",
        "\n",
        "$$\n",
        "|\\psi\\rangle_{ABQ} = \\frac{1}{\\sqrt{2}}\\left( |0\\rangle_B|0\\rangle_A + |1\\rangle_B|1\\rangle_A \\right)\n",
        "\\left( \\alpha_0 |0\\rangle_Q + \\alpha_1 |1\\rangle_Q \\right)\n",
        "$$\n",
        "\n",
        "We’re about to **move the quantum information** stored in Q **from Alice to Bob**.\n",
        "\n",
        "📌 No claims yet about **speed** or **security** — just that this is a way to **transmit quantum state data** across space using entanglement + classical communication.\n"
      ],
      "metadata": {
        "id": "IVBnolX1UfZo"
      }
    },
    {
      "cell_type": "markdown",
      "source": [
        "---\n",
        "\n",
        "### 🔁 Entangling Qubit A with Qubit Q\n",
        "\n",
        "Because the information **starts on qubit Q**, we assign it the **lowest qubit index**.  \n",
        "This follows **little-endian notation**, so in tensor products, **Q appears right-most**.\n",
        "\n",
        "---\n",
        "\n",
        "### Alice's Operations\n",
        "\n",
        "Now, Alice applies two gates:\n",
        "\n",
        "1. A **CNOT** gate with **A as control** and **Q as target**  \n",
        "2. A **Hadamard** gate on **Q**\n",
        "\n",
        "---\n",
        "\n",
        "### 🧮 New Three-Qubit State\n",
        "\n",
        "Let’s compute the system state after these operations:\n",
        "\n",
        "$$\n",
        "\\begin{aligned}\n",
        "H_Q \\cdot \\text{CNOT}_{A,Q} \\cdot |\\psi\\rangle_{AB} \\otimes |\\psi\\rangle_Q &= H_Q \\cdot \\text{CNOT}_{A,Q} \\cdot \\frac{1}{\\sqrt{2}} \\left( |0\\rangle_B |0\\rangle_A + |1\\rangle_B |1\\rangle_A \\right) \\left( \\alpha_0 |0\\rangle_Q + \\alpha_1 |1\\rangle_Q \\right) \\\\\n",
        "&= H_Q \\cdot \\text{CNOT}_{A,Q} \\cdot \\frac{1}{\\sqrt{2}} \\left[\n",
        "\\alpha_0 |0\\rangle_B |0\\rangle_A |0\\rangle_Q +\n",
        "\\alpha_1 |0\\rangle_B |0\\rangle_A |1\\rangle_Q \\right. \\\\\n",
        "&\\quad \\left. + \\alpha_0 |1\\rangle_B |1\\rangle_A |0\\rangle_Q +\n",
        "\\alpha_1 |1\\rangle_B |1\\rangle_A |1\\rangle_Q\n",
        "\\right] \\\\\n",
        "&= H_Q \\cdot \\frac{1}{\\sqrt{2}} \\left[\n",
        "\\alpha_0 |0\\rangle_B |0\\rangle_A |0\\rangle_Q +\n",
        "\\alpha_1 |0\\rangle_B |1\\rangle_A |1\\rangle_Q \\right. \\\\\n",
        "&\\quad \\left. + \\alpha_0 |1\\rangle_B |1\\rangle_A |0\\rangle_Q +\n",
        "\\alpha_1 |1\\rangle_B |0\\rangle_A |1\\rangle_Q\n",
        "\\right] \\\\\n",
        "&= \\frac{1}{2} \\left[\n",
        "\\alpha_0 |0\\rangle_B |0\\rangle_A |0\\rangle_Q +\n",
        "\\alpha_0 |0\\rangle_B |0\\rangle_A |1\\rangle_Q +\n",
        "\\alpha_1 |0\\rangle_B |1\\rangle_A |0\\rangle_Q -\n",
        "\\alpha_1 |0\\rangle_B |1\\rangle_A |1\\rangle_Q \\right. \\\\\n",
        "&\\quad \\left. + \\alpha_0 |1\\rangle_B |1\\rangle_A |0\\rangle_Q +\n",
        "\\alpha_0 |1\\rangle_B |1\\rangle_A |1\\rangle_Q +\n",
        "\\alpha_1 |1\\rangle_B |0\\rangle_A |0\\rangle_Q -\n",
        "\\alpha_1 |1\\rangle_B |0\\rangle_A |1\\rangle_Q\n",
        "\\right]\n",
        "\\end{aligned}\n",
        "$$\n",
        "\n",
        "---\n",
        "\n",
        "✅ At this point:\n",
        "- Qubits **A and Q** are now **entangled**\n",
        "- Quantum information has been **spread across all three qubits**\n",
        "- We’re close to **completing the teleportation protocol**\n"
      ],
      "metadata": {
        "id": "v7bl7d5RU6oS"
      }
    },
    {
      "cell_type": "markdown",
      "source": [
        "---\n",
        "\n",
        "### 🔍 Grouping by Measurement Outcomes (A and Q)\n",
        "\n",
        "Since qubits **A** and **Q** are located together, let’s group the terms by the possible **measurement outcomes** on those two qubits:\n",
        "\n",
        "\\[\n",
        "\\begin{aligned}\n",
        "|\\psi\\rangle &= \\frac{1}{2} \\Big[\n",
        "(\\alpha_0 |0\\rangle_B + \\alpha_1 |1\\rangle_B) |0\\rangle_A |0\\rangle_Q \\\\\n",
        "&\\quad + (\\alpha_0 |0\\rangle_B - \\alpha_1 |1\\rangle_B) |0\\rangle_A |1\\rangle_Q \\\\\n",
        "&\\quad + (\\alpha_1 |0\\rangle_B + \\alpha_0 |1\\rangle_B) |1\\rangle_A |0\\rangle_Q \\\\\n",
        "&\\quad + (-\\alpha_1 |0\\rangle_B + \\alpha_0 |1\\rangle_B) |1\\rangle_A |1\\rangle_Q\n",
        "\\Big]\n",
        "\\end{aligned}\n",
        "\\]\n",
        "\n",
        "---\n",
        "\n",
        "<div class=\"alert alert-block alert-info\">\n",
        "<b>💡 Check-in Question:</b>  \n",
        "<p>Given the expression above for the states of all three qubits, what is the probability that a measurement of qubits A and Q yields\n",
        "$|0\\rangle_A |0\\rangle_Q$?</p>\n",
        "\n",
        "<details>\n",
        "<summary><b>Answer</b></summary>\n",
        "\n",
        "<p>✅ <b>25%</b>.  \n",
        "\n",
        "To calculate this, we focus on the amplitude of the term  \n",
        "\\[\n",
        "\\frac{1}{2}(\\alpha_0 |0\\rangle_B + \\alpha_1 |1\\rangle_B) |0\\rangle_A |0\\rangle_Q\n",
        "\\]\n",
        "\n",
        "The probability is the square of the amplitude norm:\n",
        "\n",
        "\\[\n",
        "\\left| \\frac{1}{2} (\\alpha_0 |0\\rangle_B + \\alpha_1 |1\\rangle_B) \\right|^2 = \\frac{1}{4}\n",
        "\\]\n",
        "\n",
        "</p>\n",
        "</details>\n",
        "</div>\n"
      ],
      "metadata": {
        "id": "49iwTfOFVAEF"
      }
    },
    {
      "cell_type": "markdown",
      "source": [
        "---\n",
        "\n",
        "## Step-by-Step: Alice's Measurement and Classical Communication\n",
        "\n",
        "Now, Alice performs measurements on **qubits A and Q**. These measurements are **probabilistic**, so she cannot control the outcome.\n",
        "\n",
        "There are **4 possible outcomes** from measuring qubits A and Q:\n",
        "\n",
        "- $|0\\rangle_A|0\\rangle_Q$\n",
        "- $|0\\rangle_A|1\\rangle_Q$\n",
        "- $|1\\rangle_A|0\\rangle_Q$\n",
        "- $|1\\rangle_A|1\\rangle_Q$\n",
        "\n",
        "Each outcome **collapses the 3-qubit state** and leaves Bob's qubit in a different quantum state. Let's explore what Bob receives depending on Alice's result:\n",
        "\n",
        "---\n",
        "\n",
        "### 📊 Teleportation Result Table\n",
        "\n",
        "| Alice's Outcome | Bob’s State After Collapse | Instruction to Bob | Final State (Recovered) |\n",
        "|------------------|-----------------------------|----------------------|--------------------------|\n",
        "| $|0\\rangle_A|0\\rangle_Q$ | $\\alpha_0|0\\rangle_B + \\alpha_1|1\\rangle_B$ | None | $\\alpha_0|0\\rangle + \\alpha_1|1\\rangle$ |\n",
        "| $|0\\rangle_A|1\\rangle_Q$ | $\\alpha_0|0\\rangle_B - \\alpha_1|1\\rangle_B$ | Apply $Z$ | $\\alpha_0|0\\rangle + \\alpha_1|1\\rangle$ |\n",
        "| $|1\\rangle_A|0\\rangle_Q$ | $\\alpha_1|0\\rangle_B + \\alpha_0|1\\rangle_B$ | Apply $X$ | $\\alpha_0|0\\rangle + \\alpha_1|1\\rangle$ |\n",
        "| $|1\\rangle_A|1\\rangle_Q$ | $-\\alpha_1|0\\rangle_B + \\alpha_0|1\\rangle_B$ | Apply $X$ then $Z$ | $\\alpha_0|0\\rangle + \\alpha_1|1\\rangle$ |\n",
        "\n",
        "---\n",
        "\n",
        "### Summary\n",
        "\n",
        "- Bob's qubit **always ends up with a scrambled version** of the original state depending on Alice's measurement result.\n",
        "- Alice must use **classical communication** to tell Bob which correction (if any) to apply.\n",
        "- Only then can Bob **recover the exact secret state**.\n",
        "\n",
        "---\n",
        "\n",
        "### ❗ Why This Can't Transmit Info Faster Than Light\n",
        "\n",
        "Even if Bob instantly ends up with the correct quantum state, **he doesn’t know that** until Alice tells him via classical communication. So the teleportation **doesn't allow faster-than-light signaling**.\n",
        "\n",
        "---\n",
        "\n",
        "### 🧠 Implementation Note\n",
        "\n",
        "In the real IBM quantum chips, we **can't physically move qubits** to remote locations. Instead:\n",
        "\n",
        "- We simulate distance using **SWAP gates**\n",
        "- These move quantum states between physical qubits on the same chip\n",
        "\n",
        "This lets us model Alice and Bob's separation in teleportation experiments.\n",
        "\n",
        "---\n"
      ],
      "metadata": {
        "id": "lYb39K90VyvE"
      }
    },
    {
      "cell_type": "markdown",
      "source": [
        "# Experiment 1: Basic teleportation"
      ],
      "metadata": {
        "id": "_CaAxFYlV7eL"
      }
    },
    {
      "cell_type": "markdown",
      "source": [
        "---\n",
        "\n",
        "## IBM's Qiskit Pattern for Quantum Problem Solving\n",
        "\n",
        "IBM Quantum recommends tackling quantum computing problems using a framework called **Qiskit Patterns**. It breaks down any quantum workflow into 4 key steps:\n",
        "\n",
        "### 🧩 Qiskit Pattern Steps:\n",
        "\n",
        "1. **Map your problem** to a quantum circuit\n",
        "2. **Optimize the circuit** for real quantum hardware\n",
        "3. **Execute the job** using Runtime Primitives on IBM Quantum systems\n",
        "4. **Post-process the results** to interpret the output\n",
        "\n",
        "---\n",
        "\n",
        "### 4.1 Step 1: Map Your Problem to a Quantum Circuit\n",
        "\n",
        "In the previous math section, we **mathematically described the teleportation process**. Now, it's time to translate that into a quantum circuit using **Qiskit**.\n",
        "\n",
        "We will:\n",
        "\n",
        "- Create a quantum circuit with **3 qubits**:\n",
        "  - **Qubit 0** → Secret state ($|\\psi\\rangle$)\n",
        "  - **Qubit 1** → Alice's entangled qubit\n",
        "  - **Qubit 2** → Bob's entangled qubit\n",
        "\n",
        "---\n",
        "\n",
        "We'll begin by preparing **Alice and Bob's entangled pair**:\n",
        "\n",
        "- Apply a **Hadamard gate** to qubit 1 (Alice)\n",
        "- Follow it with a **CNOT gate** from qubit 1 (control) to qubit 2 (target)\n",
        "\n",
        "This setup will place qubits 1 and 2 into the Bell state:\n",
        "$$\\frac{1}{\\sqrt{2}}(|00\\rangle + |11\\rangle)$$\n",
        "\n",
        "Once this entangled pair is ready, we will proceed to prepare the secret quantum state on **qubit 0** and perform teleportation!\n",
        "\n",
        "---\n"
      ],
      "metadata": {
        "id": "1Ezro46xWEbG"
      }
    },
    {
      "cell_type": "markdown",
      "source": [
        "## Circuit Setup and Entanglement"
      ],
      "metadata": {
        "id": "Qq7ZK31NXury"
      }
    },
    {
      "cell_type": "code",
      "source": [
        "# Step 1: Set up the quantum registers and create entanglement between Alice and Bob\n",
        "\n",
        "from qiskit import ClassicalRegister, QuantumCircuit, QuantumRegister\n",
        "? numpy as ?\n",
        "? ? import pi\n",
        "\n",
        "# TODO: Define quantum registers for secret, Alice, and Bob\n",
        "secret = QuantumRegister(?, \"Q\")\n",
        "Alice = QuantumRegister(?, \"A\")\n",
        "Bob = QuantumRegister(?, \"B\")\n",
        "\n",
        "# TODO: Create a classical register for 3 bits\n",
        "cr = ClassicalRegister(?, 'c')\n",
        "\n",
        "# TODO: Create the quantum circuit\n",
        "qc = QuantumCircuit(secret, Alice, Bob, cr)\n",
        "\n",
        "# TODO: Entangle Alice and Bob’s qubits using H and CNOT\n",
        "qc.?(?)  # Apply Hadamard to Alice\n",
        "qc.?(?, ?)  # CNOT with Alice as control, Bob as target\n",
        "\n",
        "qc.?(?)  # Add barrier for circuit clarity\n"
      ],
      "metadata": {
        "id": "AzROLD5j602X"
      },
      "execution_count": null,
      "outputs": []
    },
    {
      "cell_type": "markdown",
      "source": [
        "## Prepare Secret State and Entangle with Alice"
      ],
      "metadata": {
        "id": "Q-b8r3cHX81I"
      }
    },
    {
      "cell_type": "code",
      "source": [
        "# Step 2: Prepare a secret quantum state and entangle it with Alice's qubit\n",
        "\n",
        "# TODO: Create random angles for a generic single-qubit state\n",
        "np.random.seed(42)  # Seed for repeatability\n",
        "theta = np.random.uniform(?, ?) * np.pi\n",
        "varphi = np.random.uniform(?, ?) * np.pi\n",
        "\n",
        "# TODO: Apply a general single-qubit unitary to the secret qubit\n",
        "qc.u(?, ?, ?, ?)  # Fill in theta, varphi, lambda, qubit\n",
        "\n",
        "qc.?(?)  # Barrier before next step\n",
        "\n",
        "# TODO: Entangle the secret qubit with Alice’s using CNOT and H\n",
        "qc.?(?, ?)  # CNOT: secret → Alice\n",
        "qc.?(?)     # Hadamard on secret\n",
        "\n",
        "qc.?(?)  # Barrier to separate measurement\n"
      ],
      "metadata": {
        "id": "hZ0UBhEyYBt0"
      },
      "execution_count": null,
      "outputs": []
    },
    {
      "cell_type": "markdown",
      "source": [
        "## Measurement and Conditional Logic"
      ],
      "metadata": {
        "id": "6-t6xusnYFKo"
      }
    },
    {
      "cell_type": "code",
      "source": [
        "# Step 3: Measure and use classical logic to apply corrections\n",
        "\n",
        "# TODO: Measure Alice's and secret's qubits into classical bits\n",
        "qc.measure(?, ?)  # Alice → cr[1]\n",
        "qc.measure(?, ?)  # Secret → cr[0]\n",
        "\n",
        "# TODO: Apply conditional gates to Bob based on Alice’s measurements\n",
        "with qc.if_test((?, ?)):  # If Alice’s qubit is 1\n",
        "    qc.?(?)  # Apply X to Bob\n",
        "\n",
        "with qc.if_test((?, ?)):  # If secret's qubit is 1\n",
        "    qc.?(?)  # Apply Z to Bob\n",
        "\n",
        "# Visualize the full circuit\n",
        "qc.draw(output=\"mpl\")\n"
      ],
      "metadata": {
        "id": "RQAQAJ_1YSMx"
      },
      "execution_count": null,
      "outputs": []
    },
    {
      "cell_type": "markdown",
      "source": [
        "---\n",
        "\n",
        "That's all we have to do to get **Alice's state teleported to Bob**.\n",
        "\n",
        "However, recall that when we measure a quantum state  \n",
        "$\\alpha_0|0\\rangle + \\alpha_1|1\\rangle$  \n",
        "we find either $|0\\rangle$ or $|1\\rangle$.\n",
        "\n",
        "So at the end of all this, **Bob definitely has Alice's secret state**,  \n",
        "but we **can't easily verify** this with a measurement.\n",
        "\n",
        "---\n",
        "\n",
        "### 🧠 Verification Trick\n",
        "\n",
        "In order for a measurement to tell us that we did this correctly, we have to do a trick.\n",
        "\n",
        "We had an operator labeled **\"U\" for unitary** which we used to prepare Alice's secret state.\n",
        "\n",
        "We can apply the **inverse of $U$**, written as $U^\\dagger$, at the end of our circuit.\n",
        "\n",
        "If $U$ mapped Alice’s $|0\\rangle$ state into $\\alpha_0|0\\rangle + \\alpha_1|1\\rangle$,  \n",
        "then the **inverse** of $U$ will map Bob’s $\\alpha_0|0\\rangle + \\alpha_1|1\\rangle$ back to $|0\\rangle$.\n",
        "\n",
        "---\n",
        "\n",
        "So this last part **wouldn’t necessarily be done** if the goal were just to **move quantum information**.  \n",
        "This is **only done for us to check ourselves**.\n",
        "\n",
        "---\n"
      ],
      "metadata": {
        "id": "NvUfqN4iZBq1"
      }
    },
    {
      "cell_type": "code",
      "source": [
        "# Step 4 (verify): Apply the inverse of the original U to Bob’s qubit and measure to validate teleportation\n",
        "\n",
        "# TODO: Add a barrier for circuit clarity\n",
        "qc.?(?)  # Barrier\n",
        "\n",
        "# TODO: Apply the inverse of the secret unitary to Bob's qubit\n",
        "# Hint: Use .inverse() on qc.u(...) directly, or define U separately\n",
        "qc.?(?, ?, ?, ?).?  # Apply inverse of U(theta, varphi, 0.0) to Bob\n",
        "\n",
        "# TODO: Measure Bob’s qubit into the final classical register bit (cr[2])\n",
        "qc.?(?, ?)  # Measure Bob → cr[2]\n",
        "\n",
        "# Visualize the final circuit\n",
        "qc.draw(output=\"mpl\")\n"
      ],
      "metadata": {
        "id": "2hP0wboOZHd9"
      },
      "execution_count": null,
      "outputs": []
    },
    {
      "cell_type": "markdown",
      "source": [
        "# Adaption Activity"
      ],
      "metadata": {
        "id": "PJ8uCKTQa6Kh"
      }
    },
    {
      "cell_type": "markdown",
      "source": [
        "## Step 2 – Optimize for Quantum Execution"
      ],
      "metadata": {
        "id": "9rrTK6JXepz7"
      }
    },
    {
      "cell_type": "code",
      "source": [
        "# Step 2: Optimize your circuit for a real quantum backend\n",
        "\n",
        "# TODO: Import and load the Qiskit Runtime Service\n",
        "from qiskit_ibm_runtime import QiskitRuntimeService\n",
        "service = ?  # Initialize the service\n",
        "\n",
        "# TODO: Choose a backend – you may pick the least busy or specify one\n",
        "backend = service.?(?)  # Select a backend with enough qubits\n",
        "# backend = service.backend(\"ibm_brisbane\")\n",
        "\n",
        "print(\"Backend selected:\", backend.name)\n",
        "\n",
        "# TODO: Transpile the circuit using a preset pass manager\n",
        "from qiskit.transpiler.preset_passmanagers import generate_preset_pass_manager\n",
        "target = backend.?  # Get the device’s target model\n",
        "pm = generate_preset_pass_manager(?, optimization_level=?)  # Choose your optimization level\n",
        "qc_isa = ?.?(?)  # Transpile the circuit\n"
      ],
      "metadata": {
        "id": "f_pD0OnVa5x2"
      },
      "execution_count": null,
      "outputs": []
    },
    {
      "cell_type": "markdown",
      "source": [
        "##Step 3 – Run the Circuit"
      ],
      "metadata": {
        "id": "-U1Pw5xoeibm"
      }
    },
    {
      "cell_type": "code",
      "source": [
        "# Step 3: Execute the quantum teleportation circuit\n",
        "\n",
        "# TODO: Load the appropriate Qiskit Runtime Sampler\n",
        "from qiskit_ibm_runtime import SamplerV2 as Sampler\n",
        "sampler = Sampler(mode = ?)  # Provide the correct backend\n",
        "\n",
        "# TODO: Submit the job and get the result\n",
        "job = ?.?(?)  # Run the circuit\n",
        "res = ?.result()\n",
        "\n",
        "# TODO: Extract counts from the result\n",
        "counts = res[?].data.c.get_counts()\n"
      ],
      "metadata": {
        "id": "BYuSk_CCe3RI"
      },
      "execution_count": null,
      "outputs": []
    },
    {
      "cell_type": "markdown",
      "source": [
        "# Experiment 2: Teleporting across a processor\n",
        "\n",
        "For learning and observation, just run these"
      ],
      "metadata": {
        "id": "IGnjcQYwe4vP"
      }
    },
    {
      "cell_type": "markdown",
      "source": [
        "## 5.1. Step 1: Map Your Problem to a Quantum Circuit (Long-Distance Teleportation)\n",
        "\n",
        "Arguably, the most interesting part of quantum teleportation is that a **quantum state can be teleported over long distances instantly** (though the classical communication of extra gates is not instant).\n",
        "\n",
        "As already stated, we can't break qubits off the processor and move them around.  \n",
        "🔁 **But we can move the *information* from one qubit to another**, until the qubits involved in teleportation are on opposite sides of the processor.\n",
        "\n",
        "---\n",
        "\n",
        "Let us **repeat the steps** we took above, but this time we'll:\n",
        "\n",
        "✅ Create a **larger circuit** with enough qubits to span the processor  \n",
        "✅ Use **swap gates** to push quantum information from one side of the chip to another\n",
        "\n",
        "---\n",
        "\n",
        "> ℹ️ This time, the qubits corresponding to Alice and Bob will change.  \n",
        "> So we will **not name a single qubit** \"A\" and another \"B\".  \n",
        "> Rather, we will **number the qubits** and use **variables** to represent the current position of the information on qubits belonging to Alice and Bob.\n",
        "\n",
        "All other steps — except the swap gates — are as described previously.\n"
      ],
      "metadata": {
        "id": "c3bIh8J3f-0g"
      }
    },
    {
      "cell_type": "code",
      "source": [
        "# Step 1: Map\n",
        "\n",
        "# Define registers\n",
        "qr = QuantumRegister(13, 'q')\n",
        "\n",
        "qc = QuantumCircuit(qr, cr)\n",
        "\n",
        "# Define registers\n",
        "secret = QuantumRegister(1, \"Q\")\n",
        "ebitsa = QuantumRegister(6, \"A\")\n",
        "ebitsb = QuantumRegister(6, \"B\")\n",
        "#q = ClassicalRegister(1, \"q meas\")\n",
        "#a = ClassicalRegister(1, \"a\")\n",
        "#b = ClassicalRegister(1, \"b\")\n",
        "cr = ClassicalRegister(3, 'c')\n",
        "qc = QuantumCircuit(secret, ebitsa, ebitsb, cr)\n",
        "\n",
        "# We'll start Alice in the middle of the circuit, then move information outward in both directions.\n",
        "Alice = 5\n",
        "Bob = 0\n",
        "qc.h(ebitsa[Alice])\n",
        "qc.cx(ebitsa[Alice],ebitsb[Bob])\n",
        "\n",
        "# Starting with Bob and Alice in the center, we swap their information onto adjacent qubits, until the information is on distant qubits.\n",
        "\n",
        "for n in range(Alice):\n",
        "    qc.swap(ebitsb[Bob],ebitsb[Bob+1])\n",
        "    qc.swap(ebitsa[Alice],ebitsa[Alice-1])\n",
        "    Alice = Alice-1\n",
        "    Bob = Bob+1\n",
        "\n",
        "qc.barrier()\n",
        "\n",
        "# Create a random state for Alice (qubit zero)\n",
        "np.random.seed(42) #fixing seed for repeatibility\n",
        "#theta = np.random.uniform(0.0, 1.0) * np.pi    #from 0 to pi\n",
        "theta = 0.3\n",
        "varphi = np.random.uniform(0.0, 2.0) * np.pi    #from 0 to 2*pi\n",
        "\n",
        "\n",
        "qc.u(theta, varphi, 0.0, secret)\n",
        "\n",
        "# Entangle Alice's two qubits\n",
        "qc.cx(secret,ebitsa[Alice])\n",
        "qc.h(secret)\n",
        "\n",
        "qc.barrier()\n",
        "\n",
        "# Make measurements of Alice's qubits and store the results in the classical register.\n",
        "qc.measure(ebitsa[Alice], cr[1])\n",
        "qc.measure(secret, cr[0])\n",
        "\n",
        "# Send instructions to Bob's qubits based on the outcome of Alice's measurements.\n",
        "with qc.if_test((cr[1], 1)):\n",
        "    qc.x(ebitsb[Bob])\n",
        "with qc.if_test((cr[0], 1)):\n",
        "    qc.z(ebitsb[Bob])\n",
        "\n",
        "qc.barrier()\n",
        "\n",
        "# Invert the preparation we did for Carl's qubit so we can check whether we did this correctly.\n",
        "qc.u(theta, varphi, 0.0, ebitsb[Bob]).inverse()    # inverse of u(theta,varphi,0.0)\n",
        "qc.measure(ebitsb[Bob], cr[2]) # add measurement gate\n",
        "\n",
        "qc.draw('mpl')"
      ],
      "metadata": {
        "id": "5kaoPcyEfKlR"
      },
      "execution_count": null,
      "outputs": []
    },
    {
      "cell_type": "markdown",
      "source": [
        "## 5.2. Step 2: Optimize Your Circuit\n",
        "\n",
        "You can see in the circuit diagram that the **logical steps are the same**.  \n",
        "The only difference is that we used **swap gates** to:\n",
        "\n",
        "- Bring **Alice's qubit state** from qubit 6 ($A_5$) up to qubit 1 ($A_0$), right next to $Q$\n",
        "- Bring **Bob's initial state** from qubit 7 ($B_0$) down to qubit 12 ($B_5$)\n",
        "\n",
        "> ⚠️ Note: The state on qubit 12 is **not even related to Q’s secret state** until:\n",
        "> - Measurements are made on the distant qubits 0 and 1\n",
        "> - And the **conditional $X$ and $Z$ gates** are applied\n",
        "\n",
        "---\n",
        "\n",
        "###  Why We Disable Optimization\n",
        "\n",
        "Normally, when we use the **pass manager** to transpile and optimize our circuits, it makes sense to set:\n",
        "\n",
        "```python\n",
        "optimization_level = 3\n",
        "```\n",
        "\n",
        "because we want our circuits to be as efficient as possible.\n",
        "\n",
        "But in this teleportation experiment:\n",
        "\n",
        "- The **swap gates** are not logically necessary from a computational perspective  \n",
        "- They are added **only to demonstrate teleportation over distance**\n",
        "\n",
        "If we set `optimization_level = 3`, the transpiler will **remove the swap gates**, realizing they are unnecessary, and execute the gates on adjacent qubits instead.\n",
        "\n",
        "So, for this demonstration, we set:\n",
        "\n",
        "```python\n",
        "optimization_level = 0\n",
        "```\n",
        "\n",
        "to preserve the swap gates and the physical layout of our circuit.\n"
      ],
      "metadata": {
        "id": "003WmiQ2flzh"
      }
    },
    {
      "cell_type": "code",
      "source": [
        "# Step 2: Transpile\n",
        "from qiskit.transpiler.preset_passmanagers import generate_preset_pass_manager\n",
        "\n",
        "target = backend.target\n",
        "pmzero = generate_preset_pass_manager(target=target, optimization_level=0)\n",
        "\n",
        "qc_isa_zero = pmzero.run(qc)\n",
        "\n",
        "print(qc_isa_zero.depth())"
      ],
      "metadata": {
        "id": "TvOb5VdvfrU9"
      },
      "execution_count": null,
      "outputs": []
    },
    {
      "cell_type": "markdown",
      "source": [
        "## 5.3 Step 3: Run the Teleportation Circuit\n",
        "\n",
        "Before we run the circuit, we can **visualize where the qubits are located** on the actual quantum processor using:\n",
        "\n",
        "```python\n",
        "qc_transpiled.draw('mpl')  # Optional\n",
        "plot_circuit_layout(qc_transpiled, backend)\n",
        "```\n",
        "\n",
        "This helps us **see the physical locations** of the qubits on the chip and verify that teleportation is happening over a distance.\n",
        "\n",
        "---\n",
        "\n",
        "### Run the Circuit\n",
        "\n",
        "As before, we recommend executing the circuit on a **real IBM Quantum device**.\n",
        "\n",
        "But if:\n",
        "\n",
        "- You're out of free quantum runtime minutes this month\n",
        "- Or want quicker results\n",
        "\n",
        "You can use the **simulator** instead. Just uncomment the simulator cell in your notebook:\n",
        "\n",
        "```python\n",
        "# job = execute(qc_transpiled, backend_sim, shots=1024)\n",
        "```\n",
        "\n",
        "Or continue using the **runtime execution**:\n",
        "\n",
        "```python\n",
        "job = backend.run(qc_transpiled, shots=1024)\n",
        "```\n",
        "\n",
        "Make sure to wait for job completion and retrieve the results to analyze the teleportation!\n"
      ],
      "metadata": {
        "id": "S_4sW5wNgWkB"
      }
    },
    {
      "cell_type": "code",
      "source": [
        "# This required 5 s to run on ibm_torino on 10-28-24\n",
        "job = sampler.run([qc_isa_zero])\n",
        "#job = sampler_sim.run([qc_isa_zero])\n",
        "counts=job.result()[0].data.c.get_counts()"
      ],
      "metadata": {
        "id": "-kxMqFaBfsVK"
      },
      "execution_count": null,
      "outputs": []
    },
    {
      "cell_type": "code",
      "source": [
        "from qiskit.visualization import plot_histogram\n",
        "plot_histogram(counts)"
      ],
      "metadata": {
        "id": "F4P7S-0DfxUK"
      },
      "execution_count": null,
      "outputs": []
    },
    {
      "cell_type": "markdown",
      "source": [
        "## Step 4: Classical Post-Processing\n",
        "\n",
        "After executing the quantum teleportation circuit, we now analyze the **measurement results**.\n",
        "\n",
        "You should observe:\n",
        "\n",
        "- The measurement probabilities for **Alice's qubits** are fairly **uniform** across the 4 possible outcomes.\n",
        "- A **strong preference** for measuring **Bob’s qubit in the $|0\\rangle$ state**, **after** applying the inverse of the secret preparation circuit.\n",
        "\n",
        "✅ This high probability of $|0\\rangle$ indicates that the **teleportation was successful**, and Bob's qubit likely holds the same quantum information as Alice's original secret qubit (Q).\n",
        "\n",
        "---\n",
        "\n",
        "⚠️ However, you might also notice a **slightly increased chance of measuring $|1\\rangle$ on Bob’s qubit**.\n",
        "\n",
        "This is an important insight:\n",
        "\n",
        "> The more gates (especially **multi-qubit gates** like **SWAP** or **CNOT**) you include, the **more noise and error** accumulates in real quantum hardware.\n",
        "\n",
        "That's why optimizing quantum circuits — and minimizing the number of operations — is crucial for **real-world quantum applications**.\n"
      ],
      "metadata": {
        "id": "tZPScsTNg2Rx"
      }
    }
  ]
}