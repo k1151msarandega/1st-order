{
  "nbformat": 4,
  "nbformat_minor": 0,
  "metadata": {
    "colab": {
      "provenance": [],
      "authorship_tag": "ABX9TyNFWVjRx5pJQYMlAAutm+6q",
      "include_colab_link": true
    },
    "kernelspec": {
      "name": "python3",
      "display_name": "Python 3"
    },
    "language_info": {
      "name": "python"
    }
  },
  "cells": [
    {
      "cell_type": "markdown",
      "metadata": {
        "id": "view-in-github",
        "colab_type": "text"
      },
      "source": [
        "<a href=\"https://colab.research.google.com/github/k1151msarandega/1st-order/blob/main/1st_order_rank_order_encoding.ipynb\" target=\"_parent\"><img src=\"https://colab.research.google.com/assets/colab-badge.svg\" alt=\"Open In Colab\"/></a>"
      ]
    },
    {
      "cell_type": "markdown",
      "source": [
        "**Architecture:** *1st-order model*\n",
        "\n",
        "**Encoding Scheme:** *Rank order encoding*"
      ],
      "metadata": {
        "id": "qQYWE_QwQ4o0"
      }
    },
    {
      "cell_type": "code",
      "execution_count": null,
      "metadata": {
        "id": "YFn9rKovJoq9"
      },
      "outputs": [],
      "source": [
        "import torch\n",
        "import torch.nn as nn\n",
        "import torch.optim as optim\n",
        "from torchvision import datasets, transforms\n",
        "from snntorch import snn\n",
        "import time"
      ]
    },
    {
      "cell_type": "markdown",
      "source": [
        "1. Define the rank order encoding transform"
      ],
      "metadata": {
        "id": "vut52QCHvbLd"
      }
    },
    {
      "cell_type": "code",
      "source": [
        "def rank_order_encoding(x):\n",
        "    _, ranks = x.sort(descending=True)\n",
        "    ranks = ranks.float() / (x.size(1) - 1)\n",
        "    return ranks\n"
      ],
      "metadata": {
        "id": "Eeb5T0yavkIt"
      },
      "execution_count": null,
      "outputs": []
    },
    {
      "cell_type": "markdown",
      "source": [
        "2. Define the SNN model using rank order encoding"
      ],
      "metadata": {
        "id": "el52K1GKvmq2"
      }
    },
    {
      "cell_type": "code",
      "source": [
        "class RankOrderSNN(nn.Module):\n",
        "    def __init__(self):\n",
        "        super(RankOrderSNN, self).__init__()\n",
        "        self.fc1 = nn.Linear(784, 256)\n",
        "        self.fc2 = nn.Linear(256, 10)\n",
        "\n",
        "    def forward(self, x):\n",
        "        x = rank_order_encoding(x)  # Apply rank order encoding\n",
        "        x = self.fc1(x)\n",
        "        x = self.fc2(x)\n",
        "        return x\n"
      ],
      "metadata": {
        "id": "msrWhw_wvqM5"
      },
      "execution_count": null,
      "outputs": []
    },
    {
      "cell_type": "markdown",
      "source": [
        "3. Define the training function"
      ],
      "metadata": {
        "id": "KDCz2CJGvs9s"
      }
    },
    {
      "cell_type": "code",
      "source": [
        "def train(model, device, train_loader, optimizer, epoch):\n",
        "    model.train()\n",
        "    start_time = time.time()\n",
        "    for batch_idx, (data, target) in enumerate(train_loader):\n",
        "        data, target = data.to(device), target.to(device)\n",
        "        optimizer.zero_grad()\n",
        "        output = model(data)\n",
        "        loss = snn.LossPoisson(targetRate=35)(output, target)  # Use Poisson loss for SNN\n",
        "        loss.backward()\n",
        "        optimizer.step()\n",
        "        if batch_idx % 100 == 0:\n",
        "            print('Epoch {} [{}/{} ({:.0f}%)]\\tLoss: {:.6f}'.format(\n",
        "                epoch, batch_idx * len(data), len(train_loader.dataset),\n",
        "                100. * batch_idx / len(train_loader), loss.item()))\n",
        "    end_time = time.time()\n",
        "    print('Training Time: {:.2f} seconds'.format(end_time - start_time))"
      ],
      "metadata": {
        "id": "XeSaIFIcvwSG"
      },
      "execution_count": null,
      "outputs": []
    },
    {
      "cell_type": "markdown",
      "source": [
        "4. Define the testing function"
      ],
      "metadata": {
        "id": "0O1zl_yrv0Ka"
      }
    },
    {
      "cell_type": "code",
      "source": [
        "def test(model, device, test_loader):\n",
        "    model.eval()\n",
        "    correct = 0\n",
        "    start_time = time.time()\n",
        "    with torch.no_grad():\n",
        "        for data, target in test_loader:\n",
        "            data, target = data.to(device), target.to(device)\n",
        "            output = model(data)\n",
        "            pred = output.argmax(dim=1, keepdim=True)\n",
        "            correct += pred.eq(target.view_as(pred)).sum().item()\n",
        "\n",
        "    accuracy = 100. * correct / len(test_loader.dataset)\n",
        "    end_time = time.time()\n",
        "    print('Test Accuracy: {:.2f}%'.format(accuracy))\n",
        "    print('Testing Time: {:.2f} seconds'.format(end_time - start_time))"
      ],
      "metadata": {
        "id": "H3ofm4mXv4dX"
      },
      "execution_count": null,
      "outputs": []
    },
    {
      "cell_type": "markdown",
      "source": [
        "5. Set the device (CPU or GPU)"
      ],
      "metadata": {
        "id": "tRUTHURuv760"
      }
    },
    {
      "cell_type": "code",
      "source": [
        "device = torch.device(\"cuda\" if torch.cuda.is_available() else \"cpu\")"
      ],
      "metadata": {
        "id": "FAh2gAuowAyj"
      },
      "execution_count": null,
      "outputs": []
    },
    {
      "cell_type": "markdown",
      "source": [
        "6. Define the training and testing datasets"
      ],
      "metadata": {
        "id": "ZfTBeqdHwESj"
      }
    },
    {
      "cell_type": "code",
      "source": [
        "transform = transforms.Compose([\n",
        "    transforms.ToTensor(),\n",
        "    transforms.Normalize((0.1307,), (0.3081,))\n",
        "])\n",
        "\n",
        "train_dataset = datasets.MNIST('./data', train=True, download=True, transform=transform)\n",
        "test_dataset = datasets.MNIST('./data', train=False, transform=transform)"
      ],
      "metadata": {
        "id": "L00jeHrGwMDS"
      },
      "execution_count": null,
      "outputs": []
    },
    {
      "cell_type": "markdown",
      "source": [
        "7. Define the data loaders"
      ],
      "metadata": {
        "id": "4Ivm4ihLwPnq"
      }
    },
    {
      "cell_type": "code",
      "source": [
        "train_loader = torch.utils.data.DataLoader(train_dataset, batch_size=64, shuffle=True, num_workers=1)\n",
        "test_loader = torch.utils.data.DataLoader(test_dataset, batch_size=1000, shuffle=False, num_workers=1)\n"
      ],
      "metadata": {
        "id": "MOeYD6YpwTwV"
      },
      "execution_count": null,
      "outputs": []
    },
    {
      "cell_type": "markdown",
      "source": [
        "8. Create an instance of the SNN model"
      ],
      "metadata": {
        "id": "9gTIBIDswW68"
      }
    },
    {
      "cell_type": "code",
      "source": [
        "model = RankOrderSNN().to(device)"
      ],
      "metadata": {
        "id": "qSY2Nu3owiAJ"
      },
      "execution_count": null,
      "outputs": []
    },
    {
      "cell_type": "markdown",
      "source": [
        "9. Define the optimiser"
      ],
      "metadata": {
        "id": "XR4iC8iewj7z"
      }
    },
    {
      "cell_type": "code",
      "source": [
        "optimizer = optim.SGD(model.parameters(), lr=0.01, momentum=0.5)\n"
      ],
      "metadata": {
        "id": "J01w_-5wwnrF"
      },
      "execution_count": null,
      "outputs": []
    },
    {
      "cell_type": "markdown",
      "source": [
        "10. Training loop"
      ],
      "metadata": {
        "id": "AecRdesXwqjH"
      }
    },
    {
      "cell_type": "code",
      "source": [
        "for epoch in range(1, 10 + 1):\n",
        "    print('Epoch:', epoch)\n",
        "    train(model, device, train_loader, optimizer, epoch)\n",
        "    test(model, device, test_loader)"
      ],
      "metadata": {
        "id": "aHhUu9Gowtol"
      },
      "execution_count": null,
      "outputs": []
    }
  ]
}